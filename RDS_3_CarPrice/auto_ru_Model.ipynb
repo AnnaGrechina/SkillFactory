{
 "cells": [
  {
   "cell_type": "code",
   "execution_count": 1,
   "metadata": {},
   "outputs": [],
   "source": [
    "import numpy as np\n",
    "import pandas as pd\n",
    "from catboost import CatBoostRegressor\n",
    "import re"
   ]
  },
  {
   "cell_type": "code",
   "execution_count": 2,
   "metadata": {},
   "outputs": [],
   "source": [
    "RANDOM_SEED = 42"
   ]
  },
  {
   "cell_type": "markdown",
   "metadata": {},
   "source": [
    "# Setup"
   ]
  },
  {
   "cell_type": "code",
   "execution_count": 3,
   "metadata": {},
   "outputs": [],
   "source": [
    "pass"
   ]
  },
  {
   "cell_type": "markdown",
   "metadata": {},
   "source": [
    "# Data"
   ]
  },
  {
   "cell_type": "code",
   "execution_count": 4,
   "metadata": {},
   "outputs": [
    {
     "name": "stdout",
     "output_type": "stream",
     "text": [
      "(21598, 23) (3837, 22)\n"
     ]
    }
   ],
   "source": [
    "df_train = pd.read_csv('BMW_train_ANSI.csv', encoding = 'ANSI', sep = '|')\n",
    "df_test = pd.read_csv('test.csv')\n",
    "\n",
    "#  удаляем записи, где не указана цена\n",
    "df_train.dropna(subset = ['price'], inplace = True)\n",
    "# удаляем столбцы, которые не несут информации для модели\n",
    "df_train.drop(['id', 'URL'], axis = 1, inplace = True)\n",
    "df_test.drop(['id'], axis = 1, inplace = True)\n",
    "\n",
    "print(df_train.shape, df_test.shape)"
   ]
  },
  {
   "cell_type": "code",
   "execution_count": 5,
   "metadata": {},
   "outputs": [
    {
     "name": "stdout",
     "output_type": "stream",
     "text": [
      "<class 'pandas.core.frame.DataFrame'>\n",
      "RangeIndex: 3837 entries, 0 to 3836\n",
      "Data columns (total 22 columns):\n",
      " #   Column                Non-Null Count  Dtype  \n",
      "---  ------                --------------  -----  \n",
      " 0   bodyType              3837 non-null   object \n",
      " 1   brand                 3837 non-null   object \n",
      " 2   color                 3837 non-null   object \n",
      " 3   fuelType              3837 non-null   object \n",
      " 4   modelDate             3837 non-null   float64\n",
      " 5   name                  3837 non-null   object \n",
      " 6   numberOfDoors         3837 non-null   float64\n",
      " 7   productionDate        3837 non-null   float64\n",
      " 8   vehicleConfiguration  3837 non-null   object \n",
      " 9   vehicleTransmission   3837 non-null   object \n",
      " 10  engineDisplacement    3837 non-null   object \n",
      " 11  enginePower           3837 non-null   object \n",
      " 12  description           3837 non-null   object \n",
      " 13  mileage               3837 non-null   float64\n",
      " 14  Комплектация          3837 non-null   object \n",
      " 15  Привод                3837 non-null   object \n",
      " 16  Руль                  3837 non-null   object \n",
      " 17  Состояние             3837 non-null   object \n",
      " 18  Владельцы             3837 non-null   object \n",
      " 19  ПТС                   3837 non-null   object \n",
      " 20  Таможня               3837 non-null   object \n",
      " 21  Владение              1753 non-null   object \n",
      "dtypes: float64(4), object(18)\n",
      "memory usage: 659.6+ KB\n"
     ]
    }
   ],
   "source": [
    "df_test.info()"
   ]
  },
  {
   "cell_type": "code",
   "execution_count": 51,
   "metadata": {},
   "outputs": [],
   "source": [
    "def preproc_data(df_input):\n",
    "    df_output = df_input.copy()\n",
    "\n",
    "# Переведем сведения о мощности и объеме двигателя в числовые данные\n",
    "# по результатам версии 2, это не сильно помогает: на тесте MAPE уменьшился с 10.78 до 10.75\n",
    "   \n",
    "    df_output['enginePower'] = df_input['enginePower'].apply(lambda x: int(x[:-4]))\n",
    "    df_output['engineDisplacement'] = df_input['engineDisplacement'].apply(lambda x: 0 if x == 'undefined LTR' else 10 * float(x[:-4]))\n",
    "    \n",
    "    df_output.drop(['Таможня', 'Состояние'], axis=1, inplace=True)\n",
    "    \n",
    "    df_output['Комплектация'] = df_input['Комплектация'].apply(len_configuration_parsing)\n",
    "    \n",
    "    return df_output\n",
    "\n",
    "def len_configuration_parsing(txt):\n",
    "    configuration = []\n",
    "    pattern = r'\\\"values\\\":\\[(.+?)\\]}'\n",
    "    for txt_elem in re.findall(pattern, txt):\n",
    "        pattern_txt_elem = r'\\\"(.+?)\\\"'\n",
    "        for config_item in re.findall(pattern_txt_elem, txt_elem):\n",
    "            configuration.append(config_item)\n",
    "    return len(configuration)"
   ]
  },
  {
   "cell_type": "code",
   "execution_count": 52,
   "metadata": {},
   "outputs": [
    {
     "name": "stdout",
     "output_type": "stream",
     "text": [
      "<class 'pandas.core.frame.DataFrame'>\n",
      "Int64Index: 21598 entries, 0 to 21765\n",
      "Data columns (total 21 columns):\n",
      " #   Column                Non-Null Count  Dtype  \n",
      "---  ------                --------------  -----  \n",
      " 0   bodyType              21598 non-null  object \n",
      " 1   brand                 21598 non-null  object \n",
      " 2   color                 21598 non-null  object \n",
      " 3   fuelType              21598 non-null  object \n",
      " 4   modelDate             21598 non-null  float64\n",
      " 5   name                  21595 non-null  object \n",
      " 6   numberOfDoors         21598 non-null  float64\n",
      " 7   productionDate        21598 non-null  float64\n",
      " 8   vehicleConfiguration  21598 non-null  object \n",
      " 9   vehicleTransmission   21598 non-null  object \n",
      " 10  engineDisplacement    21598 non-null  float64\n",
      " 11  enginePower           21598 non-null  int64  \n",
      " 12  description           21595 non-null  object \n",
      " 13  mileage               21595 non-null  float64\n",
      " 14  Комплектация          21598 non-null  int64  \n",
      " 15  Привод                21595 non-null  object \n",
      " 16  Руль                  21595 non-null  object \n",
      " 17  Владельцы             21590 non-null  object \n",
      " 18  ПТС                   21593 non-null  object \n",
      " 19  Владение              8283 non-null   object \n",
      " 20  price                 21598 non-null  float64\n",
      "dtypes: float64(6), int64(2), object(13)\n",
      "memory usage: 3.6+ MB\n"
     ]
    }
   ],
   "source": [
    "train = preproc_data(df_train)\n",
    "test = preproc_data(df_test)\n",
    "train.info()"
   ]
  },
  {
   "cell_type": "code",
   "execution_count": 53,
   "metadata": {},
   "outputs": [
    {
     "data": {
      "text/plain": [
       "18"
      ]
     },
     "execution_count": 53,
     "metadata": {},
     "output_type": "execute_result"
    }
   ],
   "source": [
    "train['Комплектация'].iloc[32]"
   ]
  },
  {
   "cell_type": "code",
   "execution_count": null,
   "metadata": {},
   "outputs": [],
   "source": []
  }
 ],
 "metadata": {
  "kernelspec": {
   "display_name": "Python 3",
   "language": "python",
   "name": "python3"
  },
  "language_info": {
   "codemirror_mode": {
    "name": "ipython",
    "version": 3
   },
   "file_extension": ".py",
   "mimetype": "text/x-python",
   "name": "python",
   "nbconvert_exporter": "python",
   "pygments_lexer": "ipython3",
   "version": "3.7.7"
  }
 },
 "nbformat": 4,
 "nbformat_minor": 2
}
