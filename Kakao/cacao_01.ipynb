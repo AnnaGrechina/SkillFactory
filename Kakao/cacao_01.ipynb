{
 "cells": [
  {
   "cell_type": "markdown",
   "metadata": {},
   "source": [
    "### Задача: предсказать рейтинг шоколадного батончика.  \n",
    "Данные:\n",
    "    \n",
    "   Bar id (**bar_id**) — ID батончика в базе данных  \n",
    "   Company (Maker-if known) (**company**) — название компании, изготовившей батончик.  \n",
    "   Specific Bean Origin or Bar Name (**specific_origin**) — точное место происхождения какао-бобов.  \n",
    "   Broad Bean Origin (**broad_origin**) — название региона, где были выращены какао-бобы.  \n",
    "    Company Location (**company_location**) — страна, в которой произведён шоколадный батончик.  \n",
    "    Bean Type (**bean_type**) — вид какао-бобов, используемых в батончике.  \n",
    "    REF (**ref**) — числовое значение, показывающее, как давно ревью было добавлено в базу. Чем выше значение, тем более свежее ревью.  \n",
    "    Review Date (**review_date**) — год публикации рецензии.   \n",
    "    Cocoa Percent (**cocoa_percent**) — процент какао в шоколаде.  \n",
    "    Rating (**rating**) — оценка батончика фокус-группой. (целевая переменная)  \n"
   ]
  },
  {
   "cell_type": "code",
   "execution_count": 1,
   "metadata": {},
   "outputs": [],
   "source": [
    "import pandas as pd\n",
    "import matplotlib.pyplot as plt\n",
    "import seaborn as sns\n",
    "import numpy as np\n",
    "\n",
    "from sklearn.model_selection import train_test_split\n",
    "from sklearn.metrics import mean_absolute_error\n",
    "from sklearn.ensemble import RandomForestRegressor\n",
    "from sklearn.model_selection import RandomizedSearchCV"
   ]
  },
  {
   "cell_type": "code",
   "execution_count": 2,
   "metadata": {},
   "outputs": [],
   "source": [
    "RANDOM_STATE = 23"
   ]
  },
  {
   "cell_type": "markdown",
   "metadata": {},
   "source": [
    "## 1 EDA"
   ]
  },
  {
   "cell_type": "code",
   "execution_count": 3,
   "metadata": {},
   "outputs": [],
   "source": [
    "DATA_PATH = 'data/'"
   ]
  },
  {
   "cell_type": "code",
   "execution_count": 4,
   "metadata": {},
   "outputs": [],
   "source": [
    "# Прочитаем данные, и для удобства работы переименуем колонки\n",
    "df_raw = pd.read_csv((DATA_PATH + 'cacao_flavors.csv'))\n",
    "df_raw.columns = ['bar_id', 'company', 'specific_origin', 'ref', 'review_date', 'cocoa_percent', 'company_location',\n",
    "             'rating', 'bean_type', 'broad_origin']\n",
    "# Сохраним оригинальный датасет в переменной df_raw, в дальнейшем для работы будем использовать df\n",
    "df = df_raw.copy()"
   ]
  },
  {
   "cell_type": "markdown",
   "metadata": {},
   "source": [
    "Посмотрим на данные: у нас всего 1795 записей. Судя по df.info(), пропусков практически нет, однако взгляд на непостредственную таблицу (df.head()) показывает, что много пропусков в виде пробелов.  \n"
   ]
  },
  {
   "cell_type": "code",
   "execution_count": 5,
   "metadata": {},
   "outputs": [
    {
     "name": "stdout",
     "output_type": "stream",
     "text": [
      "<class 'pandas.core.frame.DataFrame'>\n",
      "RangeIndex: 1795 entries, 0 to 1794\n",
      "Data columns (total 10 columns):\n",
      " #   Column            Non-Null Count  Dtype  \n",
      "---  ------            --------------  -----  \n",
      " 0   bar_id            1795 non-null   int64  \n",
      " 1   company           1795 non-null   object \n",
      " 2   specific_origin   1795 non-null   object \n",
      " 3   ref               1795 non-null   int64  \n",
      " 4   review_date       1795 non-null   int64  \n",
      " 5   cocoa_percent     1795 non-null   object \n",
      " 6   company_location  1795 non-null   object \n",
      " 7   rating            1795 non-null   float64\n",
      " 8   bean_type         1794 non-null   object \n",
      " 9   broad_origin      1794 non-null   object \n",
      "dtypes: float64(1), int64(3), object(6)\n",
      "memory usage: 140.4+ KB\n"
     ]
    },
    {
     "data": {
      "text/plain": [
       "None"
      ]
     },
     "metadata": {},
     "output_type": "display_data"
    },
    {
     "data": {
      "text/html": [
       "<div>\n",
       "<style scoped>\n",
       "    .dataframe tbody tr th:only-of-type {\n",
       "        vertical-align: middle;\n",
       "    }\n",
       "\n",
       "    .dataframe tbody tr th {\n",
       "        vertical-align: top;\n",
       "    }\n",
       "\n",
       "    .dataframe thead th {\n",
       "        text-align: right;\n",
       "    }\n",
       "</style>\n",
       "<table border=\"1\" class=\"dataframe\">\n",
       "  <thead>\n",
       "    <tr style=\"text-align: right;\">\n",
       "      <th></th>\n",
       "      <th>bar_id</th>\n",
       "      <th>company</th>\n",
       "      <th>specific_origin</th>\n",
       "      <th>ref</th>\n",
       "      <th>review_date</th>\n",
       "      <th>cocoa_percent</th>\n",
       "      <th>company_location</th>\n",
       "      <th>rating</th>\n",
       "      <th>bean_type</th>\n",
       "      <th>broad_origin</th>\n",
       "    </tr>\n",
       "  </thead>\n",
       "  <tbody>\n",
       "    <tr>\n",
       "      <th>0</th>\n",
       "      <td>1</td>\n",
       "      <td>A. Morin</td>\n",
       "      <td>Agua Grande</td>\n",
       "      <td>1876</td>\n",
       "      <td>2016</td>\n",
       "      <td>63%</td>\n",
       "      <td>France</td>\n",
       "      <td>11.50</td>\n",
       "      <td></td>\n",
       "      <td>Sao Tome</td>\n",
       "    </tr>\n",
       "    <tr>\n",
       "      <th>1</th>\n",
       "      <td>2</td>\n",
       "      <td>A. Morin</td>\n",
       "      <td>Kpime</td>\n",
       "      <td>1676</td>\n",
       "      <td>2015</td>\n",
       "      <td>70%</td>\n",
       "      <td>France</td>\n",
       "      <td>2.75</td>\n",
       "      <td></td>\n",
       "      <td>Togo</td>\n",
       "    </tr>\n",
       "    <tr>\n",
       "      <th>2</th>\n",
       "      <td>3</td>\n",
       "      <td>A. Morin</td>\n",
       "      <td>Atsane</td>\n",
       "      <td>1676</td>\n",
       "      <td>2015</td>\n",
       "      <td>670%</td>\n",
       "      <td>France</td>\n",
       "      <td>3.00</td>\n",
       "      <td></td>\n",
       "      <td>Togo</td>\n",
       "    </tr>\n",
       "    <tr>\n",
       "      <th>3</th>\n",
       "      <td>4</td>\n",
       "      <td>A. Morin</td>\n",
       "      <td>Akata</td>\n",
       "      <td>1680</td>\n",
       "      <td>2015</td>\n",
       "      <td>70%</td>\n",
       "      <td>France</td>\n",
       "      <td>3.50</td>\n",
       "      <td></td>\n",
       "      <td>Togo</td>\n",
       "    </tr>\n",
       "    <tr>\n",
       "      <th>4</th>\n",
       "      <td>5</td>\n",
       "      <td>A. Morin</td>\n",
       "      <td>Quilla</td>\n",
       "      <td>1704</td>\n",
       "      <td>2015</td>\n",
       "      <td>70%</td>\n",
       "      <td>France</td>\n",
       "      <td>3.50</td>\n",
       "      <td></td>\n",
       "      <td>Peru</td>\n",
       "    </tr>\n",
       "    <tr>\n",
       "      <th>5</th>\n",
       "      <td>6</td>\n",
       "      <td>A. Morin</td>\n",
       "      <td>Carenero</td>\n",
       "      <td>1315</td>\n",
       "      <td>2014</td>\n",
       "      <td>70%</td>\n",
       "      <td>France</td>\n",
       "      <td>2.75</td>\n",
       "      <td>Criollo</td>\n",
       "      <td>Venezuela</td>\n",
       "    </tr>\n",
       "    <tr>\n",
       "      <th>6</th>\n",
       "      <td>7</td>\n",
       "      <td>A. Morin</td>\n",
       "      <td>Cuba</td>\n",
       "      <td>1315</td>\n",
       "      <td>2014</td>\n",
       "      <td>70%</td>\n",
       "      <td>France</td>\n",
       "      <td>3.50</td>\n",
       "      <td></td>\n",
       "      <td>Cuba</td>\n",
       "    </tr>\n",
       "    <tr>\n",
       "      <th>7</th>\n",
       "      <td>8</td>\n",
       "      <td>A. Morin</td>\n",
       "      <td>Sur del Lago</td>\n",
       "      <td>1315</td>\n",
       "      <td>2014</td>\n",
       "      <td>70%</td>\n",
       "      <td>France</td>\n",
       "      <td>11.50</td>\n",
       "      <td>Criollo</td>\n",
       "      <td>Venezuela</td>\n",
       "    </tr>\n",
       "    <tr>\n",
       "      <th>8</th>\n",
       "      <td>9</td>\n",
       "      <td></td>\n",
       "      <td>Puerto Cabello</td>\n",
       "      <td>1319</td>\n",
       "      <td>2014</td>\n",
       "      <td>70%</td>\n",
       "      <td>France</td>\n",
       "      <td>3.75</td>\n",
       "      <td>Criollo</td>\n",
       "      <td>Venezuela</td>\n",
       "    </tr>\n",
       "    <tr>\n",
       "      <th>9</th>\n",
       "      <td>10</td>\n",
       "      <td>A. Morin</td>\n",
       "      <td>Pablino</td>\n",
       "      <td>1319</td>\n",
       "      <td>2014</td>\n",
       "      <td>70%</td>\n",
       "      <td>France</td>\n",
       "      <td>4.00</td>\n",
       "      <td></td>\n",
       "      <td>Peru</td>\n",
       "    </tr>\n",
       "  </tbody>\n",
       "</table>\n",
       "</div>"
      ],
      "text/plain": [
       "   bar_id   company specific_origin   ref  review_date cocoa_percent  \\\n",
       "0       1  A. Morin     Agua Grande  1876         2016           63%   \n",
       "1       2  A. Morin           Kpime  1676         2015           70%   \n",
       "2       3  A. Morin          Atsane  1676         2015          670%   \n",
       "3       4  A. Morin           Akata  1680         2015           70%   \n",
       "4       5  A. Morin          Quilla  1704         2015           70%   \n",
       "5       6  A. Morin        Carenero  1315         2014           70%   \n",
       "6       7  A. Morin            Cuba  1315         2014           70%   \n",
       "7       8  A. Morin    Sur del Lago  1315         2014           70%   \n",
       "8       9            Puerto Cabello  1319         2014           70%   \n",
       "9      10  A. Morin         Pablino  1319         2014           70%   \n",
       "\n",
       "  company_location  rating bean_type broad_origin  \n",
       "0           France   11.50               Sao Tome  \n",
       "1           France    2.75                   Togo  \n",
       "2           France    3.00                   Togo  \n",
       "3           France    3.50                   Togo  \n",
       "4           France    3.50                   Peru  \n",
       "5           France    2.75   Criollo    Venezuela  \n",
       "6           France    3.50                   Cuba  \n",
       "7           France   11.50   Criollo    Venezuela  \n",
       "8           France    3.75   Criollo    Venezuela  \n",
       "9           France    4.00                   Peru  "
      ]
     },
     "execution_count": 5,
     "metadata": {},
     "output_type": "execute_result"
    }
   ],
   "source": [
    "display(df.info())\n",
    "df.head(10)"
   ]
  },
  {
   "cell_type": "markdown",
   "metadata": {},
   "source": [
    "### 1.1 Работа с числовыми столбцами  \n",
    "Числовые столбцы (и те, которые могут быть к ним приведены):  \n",
    "**bar_id**  \n",
    "**cocoa_percent**  \n",
    "**ref**  \n",
    "**review_date**  \n",
    "**rating**"
   ]
  },
  {
   "cell_type": "code",
   "execution_count": 6,
   "metadata": {},
   "outputs": [],
   "source": [
    "# удалим столбец bar_id - это порядковый номер баточика в базе, он не несет полезной информации\n",
    "df.drop('bar_id', axis = 1, inplace = True)"
   ]
  },
  {
   "cell_type": "code",
   "execution_count": 7,
   "metadata": {},
   "outputs": [],
   "source": [
    "df.cocoa_percent = df_raw.cocoa_percent"
   ]
  },
  {
   "cell_type": "code",
   "execution_count": 8,
   "metadata": {},
   "outputs": [
    {
     "data": {
      "text/plain": [
       "<matplotlib.axes._subplots.AxesSubplot at 0x2bf58f85c08>"
      ]
     },
     "execution_count": 8,
     "metadata": {},
     "output_type": "execute_result"
    },
    {
     "data": {
      "image/png": "[encoded data removed]",
      "text/plain": [
       "<Figure size 432x288 with 1 Axes>"
      ]
     },
     "metadata": {
      "needs_background": "light"
     },
     "output_type": "display_data"
    }
   ],
   "source": [
    "# Переведем в числовой тип значения в cocoa_percent и посмотрим на них:\n",
    "df.cocoa_percent = df.cocoa_percent.apply(lambda x: x[:-1]).astype(float)\n",
    "df.cocoa_percent.hist()"
   ]
  },
  {
   "cell_type": "code",
   "execution_count": 9,
   "metadata": {},
   "outputs": [
    {
     "data": {
      "text/plain": [
       "70.0    664\n",
       "75.0    219\n",
       "72.0    189\n",
       "65.0     77\n",
       "80.0     70\n",
       "Name: cocoa_percent, dtype: int64"
      ]
     },
     "execution_count": 9,
     "metadata": {},
     "output_type": "execute_result"
    }
   ],
   "source": [
    "# Какие значения чаще всего встречаются?\n",
    "df.cocoa_percent.value_counts().head(5)"
   ]
  },
  {
   "cell_type": "code",
   "execution_count": 10,
   "metadata": {},
   "outputs": [
    {
     "data": {
      "text/plain": [
       "2       670.0\n",
       "203     475.0\n",
       "220     270.0\n",
       "400     580.0\n",
       "522     470.0\n",
       "540     576.0\n",
       "581     270.0\n",
       "741     582.0\n",
       "827     570.0\n",
       "1139    265.0\n",
       "1154    270.0\n",
       "1158    668.0\n",
       "1167    670.0\n",
       "1178    571.0\n",
       "1216    375.0\n",
       "1383    270.0\n",
       "1439    682.0\n",
       "1561    380.0\n",
       "1785    375.0\n",
       "Name: cocoa_percent, dtype: float64"
      ]
     },
     "metadata": {},
     "output_type": "display_data"
    }
   ],
   "source": [
    "# видим, что есть выбросы - содержание какао больше 100%.\n",
    "display(df.cocoa_percent.loc[df.cocoa_percent > 100])\n",
    "# заметим, что если отбросить первую цифру, то две последних (70%, 75%, 80%) - соотвествтуют наиболее частым значениям содержания какао.\n",
    "# не будем удалять эти выбросы, а удалим первую цифру:\n",
    "df.cocoa_percent = df.cocoa_percent.apply(lambda x: float(str(x)[1:]) if x > 100  else x)"
   ]
  },
  {
   "cell_type": "code",
   "execution_count": 11,
   "metadata": {},
   "outputs": [
    {
     "data": {
      "text/plain": [
       "<matplotlib.axes._subplots.AxesSubplot at 0x2bf59770e08>"
      ]
     },
     "execution_count": 11,
     "metadata": {},
     "output_type": "execute_result"
    },
    {
     "data": {
      "image/png": "[encoded data removed]",
      "text/plain": [
       "<Figure size 432x288 with 1 Axes>"
      ]
     },
     "metadata": {
      "needs_background": "light"
     },
     "output_type": "display_data"
    }
   ],
   "source": [
    "# Посмотрим на получившееся распределение:\n",
    "df.cocoa_percent.hist()"
   ]
  },
  {
   "cell_type": "code",
   "execution_count": 12,
   "metadata": {},
   "outputs": [
    {
     "data": {
      "text/plain": [
       "<matplotlib.axes._subplots.AxesSubplot at 0x2bf5980b108>"
      ]
     },
     "execution_count": 12,
     "metadata": {},
     "output_type": "execute_result"
    },
    {
     "data": {
      "image/png": "[encoded data removed]",
      "text/plain": [
       "<Figure size 432x288 with 1 Axes>"
      ]
     },
     "metadata": {
      "needs_background": "light"
     },
     "output_type": "display_data"
    }
   ],
   "source": [
    "# Целевая переменная\n",
    "df.rating.hist()"
   ]
  },
  {
   "cell_type": "code",
   "execution_count": 13,
   "metadata": {},
   "outputs": [
    {
     "data": {
      "text/plain": [
       "0       11.50\n",
       "7       11.50\n",
       "81      19.00\n",
       "94      12.50\n",
       "104     18.50\n",
       "115     10.00\n",
       "153     10.25\n",
       "223     17.25\n",
       "294     11.50\n",
       "315     18.25\n",
       "431     15.50\n",
       "432     19.75\n",
       "468     15.75\n",
       "537     19.25\n",
       "586     12.50\n",
       "594     13.75\n",
       "644     11.00\n",
       "695     16.75\n",
       "698     17.25\n",
       "841     12.50\n",
       "845     15.50\n",
       "886     11.75\n",
       "931     17.75\n",
       "939     10.00\n",
       "989     10.50\n",
       "997     15.75\n",
       "1115    10.75\n",
       "1166    12.50\n",
       "1232    19.00\n",
       "1371    14.25\n",
       "1379    12.00\n",
       "1386    15.75\n",
       "1493    10.00\n",
       "1495    18.50\n",
       "1659    12.50\n",
       "1692    19.00\n",
       "1709    13.75\n",
       "1727    15.50\n",
       "Name: rating, dtype: float64"
      ]
     },
     "metadata": {},
     "output_type": "display_data"
    }
   ],
   "source": [
    "# Судя по всему, использовалась 5-ти балльная шкала оценки. Но есть выбросы (38 шт)\n",
    "display(df.rating.loc[df.rating > 5])\n",
    "# Сложно предположить, в чем причина выбросов в целевой переменной, просто удалим их\n",
    "df = df[df.rating <= 5]"
   ]
  },
  {
   "cell_type": "markdown",
   "metadata": {},
   "source": [
    "Остаются два числовых столбца: ref и review_date. Судя по их гистрограммам, данные распределены равномерно, выбросов нет, пропусков тоже\n",
    "*что можно улучшить: нарисовать гистограммы красиво, в одной ячейке, со всеми подписями - чтобы одном взглядом увидеть все числовые*"
   ]
  },
  {
   "cell_type": "code",
   "execution_count": 14,
   "metadata": {},
   "outputs": [
    {
     "data": {
      "text/plain": [
       "<matplotlib.axes._subplots.AxesSubplot at 0x2bf5988b0c8>"
      ]
     },
     "execution_count": 14,
     "metadata": {},
     "output_type": "execute_result"
    },
    {
     "data": {
      "image/png": "[encoded data removed]",
      "text/plain": [
       "<Figure size 432x288 with 1 Axes>"
      ]
     },
     "metadata": {
      "needs_background": "light"
     },
     "output_type": "display_data"
    }
   ],
   "source": [
    "df.ref.hist()"
   ]
  },
  {
   "cell_type": "code",
   "execution_count": 15,
   "metadata": {},
   "outputs": [
    {
     "data": {
      "text/plain": [
       "<matplotlib.axes._subplots.AxesSubplot at 0x2bf59920c48>"
      ]
     },
     "execution_count": 15,
     "metadata": {},
     "output_type": "execute_result"
    },
    {
     "data": {
      "image/png": "[encoded data removed]",
      "text/plain": [
       "<Figure size 432x288 with 1 Axes>"
      ]
     },
     "metadata": {
      "needs_background": "light"
     },
     "output_type": "display_data"
    }
   ],
   "source": [
    "df.review_date.hist()"
   ]
  },
  {
   "cell_type": "code",
   "execution_count": 16,
   "metadata": {},
   "outputs": [
    {
     "data": {
      "text/plain": [
       "(0, 0)"
      ]
     },
     "execution_count": 16,
     "metadata": {},
     "output_type": "execute_result"
    }
   ],
   "source": [
    "df.ref.isna().sum(), df.review_date.isna().sum()"
   ]
  },
  {
   "cell_type": "code",
   "execution_count": 17,
   "metadata": {},
   "outputs": [
    {
     "data": {
      "text/plain": [
       "(440, 12)"
      ]
     },
     "execution_count": 17,
     "metadata": {},
     "output_type": "execute_result"
    }
   ],
   "source": [
    "df.ref.nunique(), df.review_date.nunique()"
   ]
  },
  {
   "cell_type": "code",
   "execution_count": 18,
   "metadata": {},
   "outputs": [
    {
     "data": {
      "text/html": [
       "<div>\n",
       "<style scoped>\n",
       "    .dataframe tbody tr th:only-of-type {\n",
       "        vertical-align: middle;\n",
       "    }\n",
       "\n",
       "    .dataframe tbody tr th {\n",
       "        vertical-align: top;\n",
       "    }\n",
       "\n",
       "    .dataframe thead th {\n",
       "        text-align: right;\n",
       "    }\n",
       "</style>\n",
       "<table border=\"1\" class=\"dataframe\">\n",
       "  <thead>\n",
       "    <tr style=\"text-align: right;\">\n",
       "      <th></th>\n",
       "      <th>ref</th>\n",
       "      <th>review_date</th>\n",
       "      <th>cocoa_percent</th>\n",
       "      <th>rating</th>\n",
       "    </tr>\n",
       "  </thead>\n",
       "  <tbody>\n",
       "    <tr>\n",
       "      <th>ref</th>\n",
       "      <td>1.000000</td>\n",
       "      <td>0.985050</td>\n",
       "      <td>0.037326</td>\n",
       "      <td>0.096522</td>\n",
       "    </tr>\n",
       "    <tr>\n",
       "      <th>review_date</th>\n",
       "      <td>0.985050</td>\n",
       "      <td>1.000000</td>\n",
       "      <td>0.038246</td>\n",
       "      <td>0.094666</td>\n",
       "    </tr>\n",
       "    <tr>\n",
       "      <th>cocoa_percent</th>\n",
       "      <td>0.037326</td>\n",
       "      <td>0.038246</td>\n",
       "      <td>1.000000</td>\n",
       "      <td>-0.165905</td>\n",
       "    </tr>\n",
       "    <tr>\n",
       "      <th>rating</th>\n",
       "      <td>0.096522</td>\n",
       "      <td>0.094666</td>\n",
       "      <td>-0.165905</td>\n",
       "      <td>1.000000</td>\n",
       "    </tr>\n",
       "  </tbody>\n",
       "</table>\n",
       "</div>"
      ],
      "text/plain": [
       "                    ref  review_date  cocoa_percent    rating\n",
       "ref            1.000000     0.985050       0.037326  0.096522\n",
       "review_date    0.985050     1.000000       0.038246  0.094666\n",
       "cocoa_percent  0.037326     0.038246       1.000000 -0.165905\n",
       "rating         0.096522     0.094666      -0.165905  1.000000"
      ]
     },
     "metadata": {},
     "output_type": "display_data"
    }
   ],
   "source": [
    "# Посмотрим на корреляцию между числовыми переменными. Видим высокую корреляцию между ref и review_date. \n",
    "display(df.corr())\n",
    "# удалим review_date, потому что в нем меньшe разброс числовых значений\n",
    "df.drop('review_date', axis = 1, inplace=True)"
   ]
  },
  {
   "cell_type": "markdown",
   "metadata": {},
   "source": [
    "### 1.2 Работа с категориальными переменными  \n",
    "Остаются следующие категориальные переменные:  \n",
    "**company** — название компании, изготовившей батончик.  \n",
    "**specific_origin** — точное место происхождения какао-бобов.  \n",
    "**broad_origin** — название региона, где были выращены какао-бобы.  \n",
    "**company_location** — страна, в которой произведён шоколадный батончик.  \n",
    "**bean_type** — вид какао-бобов, используемых в батончике.  \n",
    "\n"
   ]
  },
  {
   "cell_type": "code",
   "execution_count": 19,
   "metadata": {},
   "outputs": [
    {
     "data": {
      "text/plain": [
       "array(['A. Morin', '\\xa0', 'Acalli', 'Adi', 'Aequare (Gianduja)',\n",
       "       'Ah Cacao', \"Akesson's (Pralus)\", 'Alain Ducasse', 'Alexandre',\n",
       "       'Altus aka Cao Artisan', 'Amano', 'Amatller (Simon Coll)',\n",
       "       'Amazona', 'Ambrosia', 'Amedei', 'AMMA', 'Anahata', 'Ara', 'Arete',\n",
       "       'Artisan du Chocolat', 'Artisan du Chocolat (Casa Luker)',\n",
       "       'Askinosie', 'Bahen & Co.', 'Bakau', 'Bar Au Chocolat',\n",
       "       \"Baravelli's\", 'Batch', 'Beau Cacao', 'Beehive', 'Belcolade',\n",
       "       'Bellflower', 'Belyzium', 'Benoit Nihant', 'Bernachon',\n",
       "       'Beschle (Felchlin)', 'Bisou', 'Bittersweet Origins',\n",
       "       'Black Mountain', 'Black River (A. Morin)', 'Blanxart',\n",
       "       'Blue Bandana', 'Bonnat', 'Bouga Cacao (Tulicorp)', 'Bowler Man',\n",
       "       \"Brasstown aka It's Chocolate\", 'Brazen', 'Breeze Mill', 'Bright',\n",
       "       'Britarev', 'Bronx Grrl Chocolate', 'Burnt Fork Bend',\n",
       "       'Cacao Arabuco', 'Cacao Atlanta', 'Cacao Barry', 'Cacao de Origen',\n",
       "       'Cacao de Origin', 'Cacao Hunters', 'Cacao Market', 'Cacao Prieto',\n",
       "       'Cacao Sampaka', 'Cacao Store',\n",
       "       'Cacaosuyo (Theobroma Inversiones)', 'Cacaoyere (Ecuatoriana)',\n",
       "       'Callebaut', 'C-Amaro', 'Cao', 'Caoni (Tulicorp)',\n",
       "       'Captain Pembleton', 'Caribeans', 'Carlotta Chocolat',\n",
       "       'Castronovo', 'Cello', 'Cemoi', 'Charm School',\n",
       "       'Chchukululu (Tulicorp)', 'Chequessett', 'Chocablog',\n",
       "       'Choco Del Sol', 'Choco Dong', 'Chocolarder', \"Chocola'te\",\n",
       "       'Chocolate Alchemist-Philly', 'Chocolate Con Amor',\n",
       "       'Chocolate Conspiracy', 'Chocolate Makers', 'Chocolate Tree, The',\n",
       "       'Chocolats Privilege', 'ChocoReko', 'Chocosol', 'Chocovic',\n",
       "       'Chocovivo', 'Choklat', 'Chokolat Elot (Girard)', 'Choocsol',\n",
       "       'Chuao Chocolatier (Pralus)', 'Claudio Corallo', 'Cloudforest',\n",
       "       'Compania de Chocolate (Salgado)', 'Condor', 'Confluence',\n",
       "       'Coppeneur', \"Cote d' Or (Kraft)\", 'Cravve', 'Creo', 'Daintree',\n",
       "       'Damson', 'Dandelion', 'Danta', 'DAR', 'Dark Forest', 'Davis',\n",
       "       'De Mendes', 'De Villiers', 'Dean and Deluca (Belcolade)',\n",
       "       'Debauve & Gallais (Michel Cluizel)', 'Desbarres', 'DeVries',\n",
       "       'Dick Taylor', 'Doble & Bignall', 'Dole (Guittard)',\n",
       "       'Dolfin (Belcolade)', 'Domori', 'Dormouse', \"Duffy's\", 'Durand',\n",
       "       'Durci', 'East Van Roasters', 'Eau de Rose', 'Eclat (Felchlin)',\n",
       "       'Edelmond', 'El Ceibo', 'El Rey', 'Emerald Estate', \"Emily's\",\n",
       "       'ENNA', 'Enric Rovira (Claudio Corallo)', 'Erithaj (A. Morin)',\n",
       "       'Escazu', \"Ethel's Artisan (Mars)\", 'Ethereal', 'Fearless (AMMA)',\n",
       "       'Feitoria Cacao', 'Felchlin', 'Finca', 'Forever Cacao',\n",
       "       'Forteza (Cortes)', 'Fossa', 'Franceschi', 'Frederic Blondeel',\n",
       "       'French Broad', 'Fresco', 'Friis Holm', 'Friis Holm (Bonnat)',\n",
       "       'Fruition', 'Garden Island', 'Georgia Ramon', 'Glennmade',\n",
       "       'Goodnow Farms', 'Grand Place', \"Green & Black's (ICAM)\",\n",
       "       'Green Bean to Bar', 'Grenada Chocolate Co.', 'Guido Castagna',\n",
       "       'Guittard', 'Habitual', 'Hachez', 'Hacienda El Castillo', 'Haigh',\n",
       "       'Harper Macaw', 'Heilemann',\n",
       "       'Heirloom Cacao Preservation (Brasstown)',\n",
       "       'Heirloom Cacao Preservation (Fruition)',\n",
       "       'Heirloom Cacao Preservation (Guittard)',\n",
       "       'Heirloom Cacao Preservation (Millcreek)',\n",
       "       'Heirloom Cacao Preservation (Mindo)',\n",
       "       'Heirloom Cacao Preservation (Zokoko)', 'hello cocoa', 'hexx',\n",
       "       'Hogarth', 'Hoja Verde (Tulicorp)', 'Holy Cacao', 'Honest',\n",
       "       'Hotel Chocolat', 'Hotel Chocolat (Coppeneur)', 'Hummingbird',\n",
       "       'Idilio (Felchlin)', 'Indah', 'Indaphoria', 'Indi', 'iQ Chocolate',\n",
       "       'Isidro', 'Izard', 'Jacque Torres', 'Jordis',\n",
       "       'Just Good Chocolate', 'Kah Kow', 'Kakao', 'Kallari (Ecuatoriana)',\n",
       "       'Kaoka (Cemoi)', 'Kerchner', \"Ki' Xocolatl\", 'Kiskadee', 'Kto',\n",
       "       \"K'ul\", 'Kyya', 'L.A. Burdick (Felchlin)',\n",
       "       'La Chocolaterie Nanairo', 'La Maison du Chocolat (Valrhona)',\n",
       "       'La Oroquidea', 'La Pepa de Oro', 'Laia aka Chat-Noir',\n",
       "       'Lajedo do Ouro', 'Lake Champlain (Callebaut)', \"L'Amourette\",\n",
       "       'Letterpress', 'Levy', 'Lilla', 'Lillie Belle', 'Lindt & Sprungli',\n",
       "       'Loiza', 'Lonohana', 'Love Bar', 'Luker',\n",
       "       'Machu Picchu Trading Co.', 'Madecasse (Cinagra)', 'Madre',\n",
       "       'Maglio', 'Majani', 'Malagasy (Chocolaterie Robert)', 'Malagos',\n",
       "       'Malie Kai (Guittard)', 'Malmo', 'Mana', 'Manifesto Cacao',\n",
       "       'Manoa', 'Manufaktura Czekolady', 'Map Chocolate', 'Marana',\n",
       "       \"Marigold's Finest\", 'Marou', 'Mars', 'Marsatta', 'Martin Mayer',\n",
       "       'Mast Brothers', 'Matale', 'Maverick', 'Mayacama', 'Meadowlands',\n",
       "       'Menakao (aka Cinagra)', 'Mesocacao', 'Metiisto', 'Metropolitan',\n",
       "       'Michel Cluizel', 'Middlebury', 'Millcreek Cacao Roasters',\n",
       "       'Mindo', 'Minimal', 'Mission', 'Mita', 'Moho', 'Molucca',\n",
       "       'Momotombo', 'Monarque', 'Monsieur Truffe', 'Montecristi',\n",
       "       'Muchomas (Mesocacao)', 'Mutari', 'Nahua', 'Naive', 'Na�ve',\n",
       "       'Nanea', 'Nathan Miller', 'Neuhaus (Callebaut)', 'Nibble',\n",
       "       'Night Owl', 'Noble Bean aka Jerjobo', \"Noir d' Ebine\",\n",
       "       'Nova Monda', 'Nuance', 'Nugali', 'Oakland Chocolate Co.', 'Obolo',\n",
       "       'Ocelot', 'Ocho', 'Ohiyo', 'Oialla by Bojessen (Malmo)',\n",
       "       'Olive and Sinclair', 'Olivia', 'Omanhene', 'Omnom', 'organicfair',\n",
       "       'Original Beans (Felchlin)', 'Original Hawaiin Chocolate Factory',\n",
       "       'Orquidea', 'Pacari', 'Palette de Bine', 'Pangea', 'Park 75',\n",
       "       'Parliament', 'Pascha', 'Patric', 'Paul Young', 'Peppalo',\n",
       "       'Pierre Marcolini', 'Pinellas', 'Pitch Dark',\n",
       "       'Pomm (aka Dead Dog)', 'Potomac', 'Pralus', 'Pump Street Bakery',\n",
       "       'Pura Delizia', 'Q Chocolate', 'Quetzalli (Wolter)', 'Raaka',\n",
       "       'Rain Republic', 'Rancho San Jacinto', 'Ranger', 'Raoul Boulanger',\n",
       "       'Republica del Cacao (aka Confecta)', 'Ritual', 'Roasting Masters',\n",
       "       'Robert (aka Chocolaterie Robert)', 'Rogue', 'Rozsavolgyi',\n",
       "       'S.A.I.D.', 'Sacred', 'Salgado', 'Santander (Compania Nacional)',\n",
       "       'Santome', 'Scharffen Berger', 'Seaforth', 'Shark Mountain',\n",
       "       \"Shark's\", 'Shattel', 'Shattell', 'Sibu', 'Sibu Sura',\n",
       "       'Silvio Bessone', 'Sirene', 'Sjolinds', 'Smooth Chocolator, The',\n",
       "       'Snake & Butterfly', 'Sol Cacao', 'Solkiki', 'Solomons Gold',\n",
       "       'Solstice', 'Soma', 'Somerville', 'Soul', 'Spagnvola', 'Spencer',\n",
       "       'Sprungli (Felchlin)', 'SRSLY', 'Starchild',\n",
       "       'Stella (aka Bernrain)', 'Stone Grindz', 'StRita Supreme',\n",
       "       'Sublime Origins', 'Summerbird', 'Suruca Chocolate',\n",
       "       'Svenska Kakaobolaget', 'Szanto Tibor', 'Tabal',\n",
       "       'Tablette (aka Vanillabeans)', 'Tan Ban Skrati', 'Taza', 'TCHO',\n",
       "       'Tejas', 'Terroir', 'The Barn', 'Theo', 'Theobroma',\n",
       "       \"To'ak (Ecuatoriana)\", 'Tobago Estate (Pralus)', 'Tocoti',\n",
       "       'Treehouse', 'Tsara (Cinagra)', 'twenty-four blackbirds',\n",
       "       'Two Ravens', 'Un Dimanche A Paris', 'Undone', 'Upchurch',\n",
       "       'Valrhona', 'Vao Vao (Chocolaterie Robert)', 'Vicuna', 'Videri',\n",
       "       'Vietcacao (A. Morin)', 'Vintage Plantations',\n",
       "       'Vintage Plantations (Tulicorp)', 'Violet Sky', 'Vivra',\n",
       "       'Wellington Chocolate Factory', 'Whittakers', \"Wilkie's Organic\",\n",
       "       \"Willie's Cacao\", 'Wm', 'Woodblock', 'Xocolat', 'Xocolla', \"Zak's\",\n",
       "       'Zart Pralinen', 'Zokoko', 'Zotter'], dtype=object)"
      ]
     },
     "metadata": {},
     "output_type": "display_data"
    }
   ],
   "source": [
    "# Посмотрим на наименование фирмы-изготовителя. Видим, что у нас 403 уникальных наименования\n",
    "# среди них есть пропуск, записанный как '\\xa0'. Заменим его на честный NaN\n",
    "display(df.company.unique())\n",
    "df.company = df.company.apply(lambda x: None if x.strip == '' or x == '\\xa0' else x)"
   ]
  },
  {
   "cell_type": "code",
   "execution_count": 20,
   "metadata": {},
   "outputs": [
    {
     "data": {
      "text/plain": [
       "99"
      ]
     },
     "execution_count": 20,
     "metadata": {},
     "output_type": "execute_result"
    }
   ],
   "source": [
    "df.company.isna().sum()"
   ]
  },
  {
   "cell_type": "markdown",
   "metadata": {},
   "source": [
    "Видим, что у нас 402 уникальных значения и 99 пропусков. Кажется, что в таком виде эти данные не будут полезными для модели, поэтому для первого варианта удалим этот столбец."
   ]
  },
  {
   "cell_type": "code",
   "execution_count": 21,
   "metadata": {},
   "outputs": [],
   "source": [
    "df.drop('company', axis=1, inplace=True)"
   ]
  },
  {
   "cell_type": "code",
   "execution_count": 22,
   "metadata": {},
   "outputs": [
    {
     "data": {
      "text/plain": [
       "995"
      ]
     },
     "execution_count": 22,
     "metadata": {},
     "output_type": "execute_result"
    }
   ],
   "source": [
    "# Столбец specific_origin - точный регион происхождения какао-бобов\n",
    "# \n",
    "df.specific_origin.nunique()"
   ]
  },
  {
   "cell_type": "code",
   "execution_count": 23,
   "metadata": {},
   "outputs": [],
   "source": [
    "df.specific_origin = df.specific_origin.apply(lambda x: None if x.strip == '' or x == '\\xa0' else x)"
   ]
  },
  {
   "cell_type": "code",
   "execution_count": 24,
   "metadata": {},
   "outputs": [
    {
     "data": {
      "text/plain": [
       "56"
      ]
     },
     "execution_count": 24,
     "metadata": {},
     "output_type": "execute_result"
    }
   ],
   "source": [
    "df.specific_origin.isna().sum()"
   ]
  },
  {
   "cell_type": "markdown",
   "metadata": {},
   "source": [
    "В столбце specific_origin 995 уникальных значений и 56 пропусков. Удалим его, в таком виде информации недостаточно для предсказания рейтинга"
   ]
  },
  {
   "cell_type": "code",
   "execution_count": 25,
   "metadata": {},
   "outputs": [],
   "source": [
    "df.drop('specific_origin', axis=1, inplace=True)"
   ]
  },
  {
   "cell_type": "code",
   "execution_count": 26,
   "metadata": {},
   "outputs": [
    {
     "name": "stdout",
     "output_type": "stream",
     "text": [
      "Уникальных значений в стране происхождения бобов:  98\n"
     ]
    },
    {
     "data": {
      "text/plain": [
       "array(['Togo', 'Peru', 'Venezuela', 'Cuba', 'Panama', 'Madagascar',\n",
       "       'Brazil', 'Ecuador', 'Colombia', 'Burma', 'Papua New Guinea',\n",
       "       'Bolivia', 'Fiji', 'Mexico', 'Indonesia', 'Trinidad', 'Vietnam',\n",
       "       'Nicaragua', 'Tanzania', 'Dominican Republic', 'Ghana', 'Belize',\n",
       "       '\\xa0', 'Jamaica', 'Honduras', 'Costa Rica', 'Guatemala', 'Haiti',\n",
       "       'Congo', 'Philippines', 'Domincan Republic', 'Malaysia',\n",
       "       'Dominican Rep., Bali', 'Venez,Africa,Brasil,Peru,Mex', 'Gabon',\n",
       "       'Ivory Coast', 'Carribean', 'Sri Lanka', 'Puerto Rico', 'Grenada',\n",
       "       'Sao Tome', 'Uganda', 'Martinique', 'Sao Tome & Principe',\n",
       "       'Vanuatu', 'Australia', 'Liberia', 'Ecuador, Costa Rica',\n",
       "       'West Africa', 'Hawaii', 'St. Lucia', 'Cost Rica, Ven',\n",
       "       'Peru, Madagascar', 'Venezuela, Trinidad', 'Trinidad, Tobago',\n",
       "       'Ven, Trinidad, Ecuador', 'South America, Africa', 'India',\n",
       "       'Africa, Carribean, C. Am.', 'Trinidad-Tobago',\n",
       "       'Peru, Ecuador, Venezuela', 'Venezuela, Dom. Rep.',\n",
       "       'Colombia, Ecuador', 'Solomon Islands', 'Nigeria', 'Peru, Belize',\n",
       "       'Peru, Mad., Dom. Rep.', nan, 'PNG, Vanuatu, Mad', 'El Salvador',\n",
       "       'South America', 'Samoa', 'Ghana, Domin. Rep', 'Trinidad, Ecuador',\n",
       "       'Cameroon', 'Venezuela, Java', 'Venezuela/ Ghana',\n",
       "       'Venezuela, Ghana', 'Indonesia, Ghana',\n",
       "       'Peru(SMartin,Pangoa,nacional)', 'Principe',\n",
       "       'Central and S. America', 'Ven., Trinidad, Mad.',\n",
       "       'Carribean(DR/Jam/Tri)', 'Ghana & Madagascar',\n",
       "       'Ven.,Ecu.,Peru,Nic.', 'Madagascar & Ecuador',\n",
       "       'Guat., D.R., Peru, Mad., PNG', 'Peru, Dom. Rep',\n",
       "       'Dom. Rep., Madagascar', 'Gre., PNG, Haw., Haiti, Mad',\n",
       "       'Mad., Java, PNG', 'Ven, Bolivia, D.R.', 'DR, Ecuador, Peru',\n",
       "       'Suriname', 'Peru, Ecuador', 'Ecuador, Mad., PNG', 'Tobago',\n",
       "       'Venezuela, Carribean'], dtype=object)"
      ]
     },
     "execution_count": 26,
     "metadata": {},
     "output_type": "execute_result"
    }
   ],
   "source": [
    "# В информации по странам происхожнения бобов 98 уникальных значений. \n",
    "# Видим, что во-1, есть различные написания одной и той же страны\n",
    "# во-2, есть батончики, где указано несколько стран происхождения\n",
    "\n",
    "print('Уникальных значений в стране происхождения бобов: ', df.broad_origin.nunique())\n",
    "df.broad_origin.unique()"
   ]
  },
  {
   "cell_type": "markdown",
   "metadata": {},
   "source": [
    "Обработаем эти данные следующим образом:  \n",
    "1. Приведем к единообразному написанию все наименования стран\n",
    "2. Приведем к единообразоному написанию (с разделителем ',') данные, где указано несколько стран\n",
    "3. Преобразуем в dummies-переменные"
   ]
  },
  {
   "cell_type": "code",
   "execution_count": 27,
   "metadata": {},
   "outputs": [],
   "source": [
    "# избавляемся от пропусков\n",
    "df.broad_origin = df.broad_origin.astype(str).apply(lambda x: np.nan if x.strip() == '' else x)\n",
    "\n",
    "\n",
    "# очистим данные по странам. Приведем в вид: уникальные названия стран, через запятую.\n",
    "alias_dict = dict()\n",
    "for alias in ['DR', 'Dom Rep', 'Domin Rep', 'Dominican Rep']:\n",
    "    alias_dict[alias] = 'Domincan Republic'\n",
    "for alias in ['Ven', 'Venez']:\n",
    "    alias_dict[alias] = 'Venezuela'\n",
    "for alias in ['PNG']:\n",
    "    alias_dict[alias] = 'Papua New Guinea' \n",
    "for alias in ['Cost Rica']:\n",
    "    alias_dict[alias] = 'Costa Rica'    \n",
    "for alias in ['Mex']:\n",
    "    alias_dict[alias] = 'Mexico'\n",
    "alias_dict['Mad'] = 'Madagascar'\n",
    "alias_dict['Principe'] = 'Sao Tome'\n",
    "alias_dict['Gre'] = 'Grenada'\n",
    "alias_dict['Haw'] = 'Hawaii'\n",
    "alias_dict['Ecu'] = 'Ecuador'\n",
    "alias_dict['Nic'] = 'Nicaragua'\n",
    "alias_dict['Guat'] = 'Guatemala'\n",
    "\n",
    "# функция для приведения перечня стран происхождения в единообразный вид:\n",
    "def clean_countries(x):\n",
    "    #удалим все точки от сокращений\n",
    "    x = x.replace('.','')\n",
    "    x = x.replace('-','')\n",
    "    x = x.replace('/',',')\n",
    "    x = x.replace(' & Principe', '') # приведем к одному виду страну Sao Tome\n",
    "    x = x.replace('&', ',')\n",
    "    if '(' in x: x = x[:x.find('(')]\n",
    "    x = ','.join([_.strip() for _ in x.split(',')]) # разбиваем перечен стран по ','; удалаем пробелы по краям; соединяем снова через ','\n",
    "    for alias in alias_dict.keys():\n",
    "        if alias in x.split(','):\n",
    "            x = x.replace(alias, alias_dict[alias])\n",
    "    return x\n",
    "\n",
    "df.broad_origin = df.broad_origin.astype(str).apply(clean_countries)"
   ]
  },
  {
   "cell_type": "code",
   "execution_count": 28,
   "metadata": {},
   "outputs": [
    {
     "name": "stdout",
     "output_type": "stream",
     "text": [
      "Уникальных значений в стране происхождения бобов:  93\n"
     ]
    },
    {
     "data": {
      "text/plain": [
       "array(['Togo', 'Peru', 'Venezuela', 'Cuba', 'Panama', 'Madagascar',\n",
       "       'Brazil', 'Ecuador', 'Colombia', 'Burma', 'Papua New Guinea',\n",
       "       'Bolivia', 'Fiji', 'Mexico', 'Indonesia', 'Trinidad', 'Vietnam',\n",
       "       'Nicaragua', 'Tanzania', 'Dominican Republic', 'Ghana', 'Belize',\n",
       "       'nan', 'Jamaica', 'Honduras', 'Costa Rica', 'Guatemala', 'Haiti',\n",
       "       'Congo', 'Philippines', 'Domincan Republic', 'Malaysia',\n",
       "       'Domincan Republic,Bali', 'Venezuela,Africa,Brasil,Peru,Mexico',\n",
       "       'Gabon', 'Ivory Coast', 'Carribean', 'Sri Lanka', 'Puerto Rico',\n",
       "       'Grenada', 'Sao Tome', 'Uganda', 'Martinique', 'Vanuatu',\n",
       "       'Australia', 'Liberia', 'Ecuador,Costa Rica', 'West Africa',\n",
       "       'Hawaii', 'St Lucia', 'Costa Rica,Venezuela', 'Peru,Madagascar',\n",
       "       'Venezuela,Trinidad', 'Trinidad,Tobago',\n",
       "       'Venezuela,Trinidad,Ecuador', 'South America,Africa', 'India',\n",
       "       'Africa,Carribean,C Am', 'TrinidadTobago',\n",
       "       'Peru,Ecuador,Venezuela', 'Venezuela,Domincan Republic',\n",
       "       'Colombia,Ecuador', 'Solomon Islands', 'Nigeria', 'Peru,Belize',\n",
       "       'Peru,Madagascar,Domincan Republic',\n",
       "       'Papua New Guinea,Vanuatu,Madagascar', 'El Salvador',\n",
       "       'South America', 'Samoa', 'Ghana,Domincan Republic',\n",
       "       'Trinidad,Ecuador', 'Cameroon', 'Venezuela,Java',\n",
       "       'Venezuela,Ghana', 'Indonesia,Ghana', 'Central and S America',\n",
       "       'Venezuela,Trinidad,Madagascar', 'Ghana,Madagascar',\n",
       "       'Venezuela,Ecuador,Peru,Nicaragua', 'Madagascar,Ecuador',\n",
       "       'Guatemala,Domincan Republic,Peru,Madagascar,Papua New Guinea',\n",
       "       'Peru,Domincan Republic', 'Domincan Republic,Madagascar',\n",
       "       'Grenada,Papua New Guinea,Hawaii,Haiti,Madagascar',\n",
       "       'Madagascar,Java,Papua New Guinea',\n",
       "       'Venezuela,Bolivia,Domincan Republic',\n",
       "       'Domincan Republic,Ecuador,Peru', 'Suriname', 'Peru,Ecuador',\n",
       "       'Ecuador,Madagascar,Papua New Guinea', 'Tobago',\n",
       "       'Venezuela,Carribean'], dtype=object)"
      ]
     },
     "execution_count": 28,
     "metadata": {},
     "output_type": "execute_result"
    }
   ],
   "source": [
    "print('Уникальных значений в стране происхождения бобов: ', df.broad_origin.nunique())\n",
    "df.broad_origin.unique()"
   ]
  },
  {
   "cell_type": "code",
   "execution_count": 29,
   "metadata": {},
   "outputs": [
    {
     "name": "stdout",
     "output_type": "stream",
     "text": [
      "['Africa', 'Australia', 'Bali', 'Belize', 'Bolivia', 'Brasil', 'Brazil', 'Burma', 'C Am', 'Cameroon', 'Carribean', 'Central and S America', 'Colombia', 'Congo', 'Costa Rica', 'Cuba', 'Domincan Republic', 'Dominican Republic', 'Ecuador', 'El Salvador', 'Fiji', 'Gabon', 'Ghana', 'Grenada', 'Guatemala', 'Haiti', 'Hawaii', 'Honduras', 'India', 'Indonesia', 'Ivory Coast', 'Jamaica', 'Java', 'Liberia', 'Madagascar', 'Malaysia', 'Martinique', 'Mexico', 'Nicaragua', 'Nigeria', 'Panama', 'Papua New Guinea', 'Peru', 'Philippines', 'Puerto Rico', 'Samoa', 'Sao Tome', 'Solomon Islands', 'South America', 'Sri Lanka', 'St Lucia', 'Suriname', 'Tanzania', 'Tobago', 'Togo', 'Trinidad', 'TrinidadTobago', 'Uganda', 'Vanuatu', 'Venezuela', 'Vietnam', 'West Africa']\n"
     ]
    }
   ],
   "source": [
    "# составим список всех встречающихся стран\n",
    "countri_set = set()\n",
    "for x in df.broad_origin.unique():\n",
    "    countri_set = countri_set.union(set(x.split(',')))\n",
    "countries = list(countri_set)\n",
    "countries.sort()\n",
    "countries.remove('nan')\n",
    "print(countries)"
   ]
  },
  {
   "cell_type": "code",
   "execution_count": 30,
   "metadata": {},
   "outputs": [],
   "source": [
    "# добавим dummy-variables, где 1 будет соответствовать стране происхождения бобов\n",
    "for country in countries:\n",
    "    df[country] = df.broad_origin.apply(lambda x: 1 if country in x.split(',') else 0)\n",
    "df.drop('broad_origin', axis=1, inplace=True)"
   ]
  },
  {
   "cell_type": "code",
   "execution_count": 31,
   "metadata": {},
   "outputs": [
    {
     "data": {
      "text/plain": [
       "(60, 0)"
      ]
     },
     "execution_count": 31,
     "metadata": {},
     "output_type": "execute_result"
    }
   ],
   "source": [
    "# Страна фирмы-изготовителя - -60 уникальных значений, пропусков нет\n",
    "df.company_location.nunique(), df.company_location.isna().sum()"
   ]
  },
  {
   "cell_type": "code",
   "execution_count": 32,
   "metadata": {},
   "outputs": [],
   "source": [
    "df = df.join(pd.get_dummies(df.company_location, prefix='comp'))\n",
    "df.drop('company_location', axis=1, inplace=True)"
   ]
  },
  {
   "cell_type": "code",
   "execution_count": 33,
   "metadata": {},
   "outputs": [
    {
     "data": {
      "text/html": [
       "<div>\n",
       "<style scoped>\n",
       "    .dataframe tbody tr th:only-of-type {\n",
       "        vertical-align: middle;\n",
       "    }\n",
       "\n",
       "    .dataframe tbody tr th {\n",
       "        vertical-align: top;\n",
       "    }\n",
       "\n",
       "    .dataframe thead th {\n",
       "        text-align: right;\n",
       "    }\n",
       "</style>\n",
       "<table border=\"1\" class=\"dataframe\">\n",
       "  <thead>\n",
       "    <tr style=\"text-align: right;\">\n",
       "      <th></th>\n",
       "      <th>ref</th>\n",
       "      <th>cocoa_percent</th>\n",
       "      <th>rating</th>\n",
       "      <th>bean_type</th>\n",
       "      <th>Africa</th>\n",
       "      <th>Australia</th>\n",
       "      <th>Bali</th>\n",
       "      <th>Belize</th>\n",
       "      <th>Bolivia</th>\n",
       "      <th>Brasil</th>\n",
       "      <th>...</th>\n",
       "      <th>comp_Spain</th>\n",
       "      <th>comp_St. Lucia</th>\n",
       "      <th>comp_Suriname</th>\n",
       "      <th>comp_Sweden</th>\n",
       "      <th>comp_Switzerland</th>\n",
       "      <th>comp_U.K.</th>\n",
       "      <th>comp_U.S.A.</th>\n",
       "      <th>comp_Venezuela</th>\n",
       "      <th>comp_Vietnam</th>\n",
       "      <th>comp_Wales</th>\n",
       "    </tr>\n",
       "  </thead>\n",
       "  <tbody>\n",
       "    <tr>\n",
       "      <th>1</th>\n",
       "      <td>1676</td>\n",
       "      <td>70.0</td>\n",
       "      <td>2.75</td>\n",
       "      <td></td>\n",
       "      <td>0</td>\n",
       "      <td>0</td>\n",
       "      <td>0</td>\n",
       "      <td>0</td>\n",
       "      <td>0</td>\n",
       "      <td>0</td>\n",
       "      <td>...</td>\n",
       "      <td>0</td>\n",
       "      <td>0</td>\n",
       "      <td>0</td>\n",
       "      <td>0</td>\n",
       "      <td>0</td>\n",
       "      <td>0</td>\n",
       "      <td>0</td>\n",
       "      <td>0</td>\n",
       "      <td>0</td>\n",
       "      <td>0</td>\n",
       "    </tr>\n",
       "    <tr>\n",
       "      <th>2</th>\n",
       "      <td>1676</td>\n",
       "      <td>70.0</td>\n",
       "      <td>3.00</td>\n",
       "      <td></td>\n",
       "      <td>0</td>\n",
       "      <td>0</td>\n",
       "      <td>0</td>\n",
       "      <td>0</td>\n",
       "      <td>0</td>\n",
       "      <td>0</td>\n",
       "      <td>...</td>\n",
       "      <td>0</td>\n",
       "      <td>0</td>\n",
       "      <td>0</td>\n",
       "      <td>0</td>\n",
       "      <td>0</td>\n",
       "      <td>0</td>\n",
       "      <td>0</td>\n",
       "      <td>0</td>\n",
       "      <td>0</td>\n",
       "      <td>0</td>\n",
       "    </tr>\n",
       "    <tr>\n",
       "      <th>3</th>\n",
       "      <td>1680</td>\n",
       "      <td>70.0</td>\n",
       "      <td>3.50</td>\n",
       "      <td></td>\n",
       "      <td>0</td>\n",
       "      <td>0</td>\n",
       "      <td>0</td>\n",
       "      <td>0</td>\n",
       "      <td>0</td>\n",
       "      <td>0</td>\n",
       "      <td>...</td>\n",
       "      <td>0</td>\n",
       "      <td>0</td>\n",
       "      <td>0</td>\n",
       "      <td>0</td>\n",
       "      <td>0</td>\n",
       "      <td>0</td>\n",
       "      <td>0</td>\n",
       "      <td>0</td>\n",
       "      <td>0</td>\n",
       "      <td>0</td>\n",
       "    </tr>\n",
       "    <tr>\n",
       "      <th>4</th>\n",
       "      <td>1704</td>\n",
       "      <td>70.0</td>\n",
       "      <td>3.50</td>\n",
       "      <td></td>\n",
       "      <td>0</td>\n",
       "      <td>0</td>\n",
       "      <td>0</td>\n",
       "      <td>0</td>\n",
       "      <td>0</td>\n",
       "      <td>0</td>\n",
       "      <td>...</td>\n",
       "      <td>0</td>\n",
       "      <td>0</td>\n",
       "      <td>0</td>\n",
       "      <td>0</td>\n",
       "      <td>0</td>\n",
       "      <td>0</td>\n",
       "      <td>0</td>\n",
       "      <td>0</td>\n",
       "      <td>0</td>\n",
       "      <td>0</td>\n",
       "    </tr>\n",
       "    <tr>\n",
       "      <th>5</th>\n",
       "      <td>1315</td>\n",
       "      <td>70.0</td>\n",
       "      <td>2.75</td>\n",
       "      <td>Criollo</td>\n",
       "      <td>0</td>\n",
       "      <td>0</td>\n",
       "      <td>0</td>\n",
       "      <td>0</td>\n",
       "      <td>0</td>\n",
       "      <td>0</td>\n",
       "      <td>...</td>\n",
       "      <td>0</td>\n",
       "      <td>0</td>\n",
       "      <td>0</td>\n",
       "      <td>0</td>\n",
       "      <td>0</td>\n",
       "      <td>0</td>\n",
       "      <td>0</td>\n",
       "      <td>0</td>\n",
       "      <td>0</td>\n",
       "      <td>0</td>\n",
       "    </tr>\n",
       "    <tr>\n",
       "      <th>...</th>\n",
       "      <td>...</td>\n",
       "      <td>...</td>\n",
       "      <td>...</td>\n",
       "      <td>...</td>\n",
       "      <td>...</td>\n",
       "      <td>...</td>\n",
       "      <td>...</td>\n",
       "      <td>...</td>\n",
       "      <td>...</td>\n",
       "      <td>...</td>\n",
       "      <td>...</td>\n",
       "      <td>...</td>\n",
       "      <td>...</td>\n",
       "      <td>...</td>\n",
       "      <td>...</td>\n",
       "      <td>...</td>\n",
       "      <td>...</td>\n",
       "      <td>...</td>\n",
       "      <td>...</td>\n",
       "      <td>...</td>\n",
       "      <td>...</td>\n",
       "    </tr>\n",
       "    <tr>\n",
       "      <th>1790</th>\n",
       "      <td>647</td>\n",
       "      <td>70.0</td>\n",
       "      <td>3.75</td>\n",
       "      <td></td>\n",
       "      <td>0</td>\n",
       "      <td>0</td>\n",
       "      <td>0</td>\n",
       "      <td>0</td>\n",
       "      <td>0</td>\n",
       "      <td>0</td>\n",
       "      <td>...</td>\n",
       "      <td>0</td>\n",
       "      <td>0</td>\n",
       "      <td>0</td>\n",
       "      <td>0</td>\n",
       "      <td>0</td>\n",
       "      <td>0</td>\n",
       "      <td>0</td>\n",
       "      <td>0</td>\n",
       "      <td>0</td>\n",
       "      <td>0</td>\n",
       "    </tr>\n",
       "    <tr>\n",
       "      <th>1791</th>\n",
       "      <td>749</td>\n",
       "      <td>65.0</td>\n",
       "      <td>3.00</td>\n",
       "      <td>Forastero</td>\n",
       "      <td>0</td>\n",
       "      <td>0</td>\n",
       "      <td>0</td>\n",
       "      <td>0</td>\n",
       "      <td>0</td>\n",
       "      <td>0</td>\n",
       "      <td>...</td>\n",
       "      <td>0</td>\n",
       "      <td>0</td>\n",
       "      <td>0</td>\n",
       "      <td>0</td>\n",
       "      <td>0</td>\n",
       "      <td>0</td>\n",
       "      <td>0</td>\n",
       "      <td>0</td>\n",
       "      <td>0</td>\n",
       "      <td>0</td>\n",
       "    </tr>\n",
       "    <tr>\n",
       "      <th>1792</th>\n",
       "      <td>749</td>\n",
       "      <td>65.0</td>\n",
       "      <td>3.50</td>\n",
       "      <td>Forastero</td>\n",
       "      <td>0</td>\n",
       "      <td>0</td>\n",
       "      <td>0</td>\n",
       "      <td>0</td>\n",
       "      <td>0</td>\n",
       "      <td>0</td>\n",
       "      <td>...</td>\n",
       "      <td>0</td>\n",
       "      <td>0</td>\n",
       "      <td>0</td>\n",
       "      <td>0</td>\n",
       "      <td>0</td>\n",
       "      <td>0</td>\n",
       "      <td>0</td>\n",
       "      <td>0</td>\n",
       "      <td>0</td>\n",
       "      <td>0</td>\n",
       "    </tr>\n",
       "    <tr>\n",
       "      <th>1793</th>\n",
       "      <td>781</td>\n",
       "      <td>62.0</td>\n",
       "      <td>3.25</td>\n",
       "      <td></td>\n",
       "      <td>0</td>\n",
       "      <td>0</td>\n",
       "      <td>0</td>\n",
       "      <td>0</td>\n",
       "      <td>0</td>\n",
       "      <td>0</td>\n",
       "      <td>...</td>\n",
       "      <td>0</td>\n",
       "      <td>0</td>\n",
       "      <td>0</td>\n",
       "      <td>0</td>\n",
       "      <td>0</td>\n",
       "      <td>0</td>\n",
       "      <td>0</td>\n",
       "      <td>0</td>\n",
       "      <td>0</td>\n",
       "      <td>0</td>\n",
       "    </tr>\n",
       "    <tr>\n",
       "      <th>1794</th>\n",
       "      <td>486</td>\n",
       "      <td>65.0</td>\n",
       "      <td>3.00</td>\n",
       "      <td></td>\n",
       "      <td>0</td>\n",
       "      <td>0</td>\n",
       "      <td>0</td>\n",
       "      <td>0</td>\n",
       "      <td>0</td>\n",
       "      <td>0</td>\n",
       "      <td>...</td>\n",
       "      <td>0</td>\n",
       "      <td>0</td>\n",
       "      <td>0</td>\n",
       "      <td>0</td>\n",
       "      <td>0</td>\n",
       "      <td>0</td>\n",
       "      <td>0</td>\n",
       "      <td>0</td>\n",
       "      <td>0</td>\n",
       "      <td>0</td>\n",
       "    </tr>\n",
       "  </tbody>\n",
       "</table>\n",
       "<p>1757 rows × 126 columns</p>\n",
       "</div>"
      ],
      "text/plain": [
       "       ref  cocoa_percent  rating  bean_type  Africa  Australia  Bali  Belize  \\\n",
       "1     1676           70.0    2.75                  0          0     0       0   \n",
       "2     1676           70.0    3.00                  0          0     0       0   \n",
       "3     1680           70.0    3.50                  0          0     0       0   \n",
       "4     1704           70.0    3.50                  0          0     0       0   \n",
       "5     1315           70.0    2.75    Criollo       0          0     0       0   \n",
       "...    ...            ...     ...        ...     ...        ...   ...     ...   \n",
       "1790   647           70.0    3.75                  0          0     0       0   \n",
       "1791   749           65.0    3.00  Forastero       0          0     0       0   \n",
       "1792   749           65.0    3.50  Forastero       0          0     0       0   \n",
       "1793   781           62.0    3.25                  0          0     0       0   \n",
       "1794   486           65.0    3.00                  0          0     0       0   \n",
       "\n",
       "      Bolivia  Brasil  ...  comp_Spain  comp_St. Lucia  comp_Suriname  \\\n",
       "1           0       0  ...           0               0              0   \n",
       "2           0       0  ...           0               0              0   \n",
       "3           0       0  ...           0               0              0   \n",
       "4           0       0  ...           0               0              0   \n",
       "5           0       0  ...           0               0              0   \n",
       "...       ...     ...  ...         ...             ...            ...   \n",
       "1790        0       0  ...           0               0              0   \n",
       "1791        0       0  ...           0               0              0   \n",
       "1792        0       0  ...           0               0              0   \n",
       "1793        0       0  ...           0               0              0   \n",
       "1794        0       0  ...           0               0              0   \n",
       "\n",
       "      comp_Sweden  comp_Switzerland  comp_U.K.  comp_U.S.A.  comp_Venezuela  \\\n",
       "1               0                 0          0            0               0   \n",
       "2               0                 0          0            0               0   \n",
       "3               0                 0          0            0               0   \n",
       "4               0                 0          0            0               0   \n",
       "5               0                 0          0            0               0   \n",
       "...           ...               ...        ...          ...             ...   \n",
       "1790            0                 0          0            0               0   \n",
       "1791            0                 0          0            0               0   \n",
       "1792            0                 0          0            0               0   \n",
       "1793            0                 0          0            0               0   \n",
       "1794            0                 0          0            0               0   \n",
       "\n",
       "      comp_Vietnam  comp_Wales  \n",
       "1                0           0  \n",
       "2                0           0  \n",
       "3                0           0  \n",
       "4                0           0  \n",
       "5                0           0  \n",
       "...            ...         ...  \n",
       "1790             0           0  \n",
       "1791             0           0  \n",
       "1792             0           0  \n",
       "1793             0           0  \n",
       "1794             0           0  \n",
       "\n",
       "[1757 rows x 126 columns]"
      ]
     },
     "execution_count": 33,
     "metadata": {},
     "output_type": "execute_result"
    }
   ],
   "source": [
    "df"
   ]
  },
  {
   "cell_type": "code",
   "execution_count": 34,
   "metadata": {},
   "outputs": [
    {
     "data": {
      "text/plain": [
       "(41, 869)"
      ]
     },
     "execution_count": 34,
     "metadata": {},
     "output_type": "execute_result"
    }
   ],
   "source": [
    "# Уникальных типов шоколадных батончиков в исходном датасете - 41. \n",
    "# В то же время, почти половина значений - пропуски. Пока не будем использовать эти данные\n",
    "df.bean_type = df.bean_type.astype(str).apply(lambda x: np.nan if x.strip() == '' else x)\n",
    "df.bean_type.nunique(), df.bean_type.isna().sum()"
   ]
  },
  {
   "cell_type": "code",
   "execution_count": 35,
   "metadata": {},
   "outputs": [],
   "source": [
    "df.drop('bean_type', axis=1, inplace=True)"
   ]
  },
  {
   "cell_type": "code",
   "execution_count": 36,
   "metadata": {},
   "outputs": [
    {
     "data": {
      "text/html": [
       "<div>\n",
       "<style scoped>\n",
       "    .dataframe tbody tr th:only-of-type {\n",
       "        vertical-align: middle;\n",
       "    }\n",
       "\n",
       "    .dataframe tbody tr th {\n",
       "        vertical-align: top;\n",
       "    }\n",
       "\n",
       "    .dataframe thead th {\n",
       "        text-align: right;\n",
       "    }\n",
       "</style>\n",
       "<table border=\"1\" class=\"dataframe\">\n",
       "  <thead>\n",
       "    <tr style=\"text-align: right;\">\n",
       "      <th></th>\n",
       "      <th>ref</th>\n",
       "      <th>cocoa_percent</th>\n",
       "      <th>rating</th>\n",
       "      <th>Africa</th>\n",
       "      <th>Australia</th>\n",
       "      <th>Bali</th>\n",
       "      <th>Belize</th>\n",
       "      <th>Bolivia</th>\n",
       "      <th>Brasil</th>\n",
       "      <th>Brazil</th>\n",
       "      <th>...</th>\n",
       "      <th>comp_Spain</th>\n",
       "      <th>comp_St. Lucia</th>\n",
       "      <th>comp_Suriname</th>\n",
       "      <th>comp_Sweden</th>\n",
       "      <th>comp_Switzerland</th>\n",
       "      <th>comp_U.K.</th>\n",
       "      <th>comp_U.S.A.</th>\n",
       "      <th>comp_Venezuela</th>\n",
       "      <th>comp_Vietnam</th>\n",
       "      <th>comp_Wales</th>\n",
       "    </tr>\n",
       "  </thead>\n",
       "  <tbody>\n",
       "    <tr>\n",
       "      <th>1</th>\n",
       "      <td>1676</td>\n",
       "      <td>70.0</td>\n",
       "      <td>2.75</td>\n",
       "      <td>0</td>\n",
       "      <td>0</td>\n",
       "      <td>0</td>\n",
       "      <td>0</td>\n",
       "      <td>0</td>\n",
       "      <td>0</td>\n",
       "      <td>0</td>\n",
       "      <td>...</td>\n",
       "      <td>0</td>\n",
       "      <td>0</td>\n",
       "      <td>0</td>\n",
       "      <td>0</td>\n",
       "      <td>0</td>\n",
       "      <td>0</td>\n",
       "      <td>0</td>\n",
       "      <td>0</td>\n",
       "      <td>0</td>\n",
       "      <td>0</td>\n",
       "    </tr>\n",
       "    <tr>\n",
       "      <th>2</th>\n",
       "      <td>1676</td>\n",
       "      <td>70.0</td>\n",
       "      <td>3.00</td>\n",
       "      <td>0</td>\n",
       "      <td>0</td>\n",
       "      <td>0</td>\n",
       "      <td>0</td>\n",
       "      <td>0</td>\n",
       "      <td>0</td>\n",
       "      <td>0</td>\n",
       "      <td>...</td>\n",
       "      <td>0</td>\n",
       "      <td>0</td>\n",
       "      <td>0</td>\n",
       "      <td>0</td>\n",
       "      <td>0</td>\n",
       "      <td>0</td>\n",
       "      <td>0</td>\n",
       "      <td>0</td>\n",
       "      <td>0</td>\n",
       "      <td>0</td>\n",
       "    </tr>\n",
       "    <tr>\n",
       "      <th>3</th>\n",
       "      <td>1680</td>\n",
       "      <td>70.0</td>\n",
       "      <td>3.50</td>\n",
       "      <td>0</td>\n",
       "      <td>0</td>\n",
       "      <td>0</td>\n",
       "      <td>0</td>\n",
       "      <td>0</td>\n",
       "      <td>0</td>\n",
       "      <td>0</td>\n",
       "      <td>...</td>\n",
       "      <td>0</td>\n",
       "      <td>0</td>\n",
       "      <td>0</td>\n",
       "      <td>0</td>\n",
       "      <td>0</td>\n",
       "      <td>0</td>\n",
       "      <td>0</td>\n",
       "      <td>0</td>\n",
       "      <td>0</td>\n",
       "      <td>0</td>\n",
       "    </tr>\n",
       "    <tr>\n",
       "      <th>4</th>\n",
       "      <td>1704</td>\n",
       "      <td>70.0</td>\n",
       "      <td>3.50</td>\n",
       "      <td>0</td>\n",
       "      <td>0</td>\n",
       "      <td>0</td>\n",
       "      <td>0</td>\n",
       "      <td>0</td>\n",
       "      <td>0</td>\n",
       "      <td>0</td>\n",
       "      <td>...</td>\n",
       "      <td>0</td>\n",
       "      <td>0</td>\n",
       "      <td>0</td>\n",
       "      <td>0</td>\n",
       "      <td>0</td>\n",
       "      <td>0</td>\n",
       "      <td>0</td>\n",
       "      <td>0</td>\n",
       "      <td>0</td>\n",
       "      <td>0</td>\n",
       "    </tr>\n",
       "    <tr>\n",
       "      <th>5</th>\n",
       "      <td>1315</td>\n",
       "      <td>70.0</td>\n",
       "      <td>2.75</td>\n",
       "      <td>0</td>\n",
       "      <td>0</td>\n",
       "      <td>0</td>\n",
       "      <td>0</td>\n",
       "      <td>0</td>\n",
       "      <td>0</td>\n",
       "      <td>0</td>\n",
       "      <td>...</td>\n",
       "      <td>0</td>\n",
       "      <td>0</td>\n",
       "      <td>0</td>\n",
       "      <td>0</td>\n",
       "      <td>0</td>\n",
       "      <td>0</td>\n",
       "      <td>0</td>\n",
       "      <td>0</td>\n",
       "      <td>0</td>\n",
       "      <td>0</td>\n",
       "    </tr>\n",
       "    <tr>\n",
       "      <th>...</th>\n",
       "      <td>...</td>\n",
       "      <td>...</td>\n",
       "      <td>...</td>\n",
       "      <td>...</td>\n",
       "      <td>...</td>\n",
       "      <td>...</td>\n",
       "      <td>...</td>\n",
       "      <td>...</td>\n",
       "      <td>...</td>\n",
       "      <td>...</td>\n",
       "      <td>...</td>\n",
       "      <td>...</td>\n",
       "      <td>...</td>\n",
       "      <td>...</td>\n",
       "      <td>...</td>\n",
       "      <td>...</td>\n",
       "      <td>...</td>\n",
       "      <td>...</td>\n",
       "      <td>...</td>\n",
       "      <td>...</td>\n",
       "      <td>...</td>\n",
       "    </tr>\n",
       "    <tr>\n",
       "      <th>1790</th>\n",
       "      <td>647</td>\n",
       "      <td>70.0</td>\n",
       "      <td>3.75</td>\n",
       "      <td>0</td>\n",
       "      <td>0</td>\n",
       "      <td>0</td>\n",
       "      <td>0</td>\n",
       "      <td>0</td>\n",
       "      <td>0</td>\n",
       "      <td>0</td>\n",
       "      <td>...</td>\n",
       "      <td>0</td>\n",
       "      <td>0</td>\n",
       "      <td>0</td>\n",
       "      <td>0</td>\n",
       "      <td>0</td>\n",
       "      <td>0</td>\n",
       "      <td>0</td>\n",
       "      <td>0</td>\n",
       "      <td>0</td>\n",
       "      <td>0</td>\n",
       "    </tr>\n",
       "    <tr>\n",
       "      <th>1791</th>\n",
       "      <td>749</td>\n",
       "      <td>65.0</td>\n",
       "      <td>3.00</td>\n",
       "      <td>0</td>\n",
       "      <td>0</td>\n",
       "      <td>0</td>\n",
       "      <td>0</td>\n",
       "      <td>0</td>\n",
       "      <td>0</td>\n",
       "      <td>0</td>\n",
       "      <td>...</td>\n",
       "      <td>0</td>\n",
       "      <td>0</td>\n",
       "      <td>0</td>\n",
       "      <td>0</td>\n",
       "      <td>0</td>\n",
       "      <td>0</td>\n",
       "      <td>0</td>\n",
       "      <td>0</td>\n",
       "      <td>0</td>\n",
       "      <td>0</td>\n",
       "    </tr>\n",
       "    <tr>\n",
       "      <th>1792</th>\n",
       "      <td>749</td>\n",
       "      <td>65.0</td>\n",
       "      <td>3.50</td>\n",
       "      <td>0</td>\n",
       "      <td>0</td>\n",
       "      <td>0</td>\n",
       "      <td>0</td>\n",
       "      <td>0</td>\n",
       "      <td>0</td>\n",
       "      <td>0</td>\n",
       "      <td>...</td>\n",
       "      <td>0</td>\n",
       "      <td>0</td>\n",
       "      <td>0</td>\n",
       "      <td>0</td>\n",
       "      <td>0</td>\n",
       "      <td>0</td>\n",
       "      <td>0</td>\n",
       "      <td>0</td>\n",
       "      <td>0</td>\n",
       "      <td>0</td>\n",
       "    </tr>\n",
       "    <tr>\n",
       "      <th>1793</th>\n",
       "      <td>781</td>\n",
       "      <td>62.0</td>\n",
       "      <td>3.25</td>\n",
       "      <td>0</td>\n",
       "      <td>0</td>\n",
       "      <td>0</td>\n",
       "      <td>0</td>\n",
       "      <td>0</td>\n",
       "      <td>0</td>\n",
       "      <td>0</td>\n",
       "      <td>...</td>\n",
       "      <td>0</td>\n",
       "      <td>0</td>\n",
       "      <td>0</td>\n",
       "      <td>0</td>\n",
       "      <td>0</td>\n",
       "      <td>0</td>\n",
       "      <td>0</td>\n",
       "      <td>0</td>\n",
       "      <td>0</td>\n",
       "      <td>0</td>\n",
       "    </tr>\n",
       "    <tr>\n",
       "      <th>1794</th>\n",
       "      <td>486</td>\n",
       "      <td>65.0</td>\n",
       "      <td>3.00</td>\n",
       "      <td>0</td>\n",
       "      <td>0</td>\n",
       "      <td>0</td>\n",
       "      <td>0</td>\n",
       "      <td>0</td>\n",
       "      <td>0</td>\n",
       "      <td>1</td>\n",
       "      <td>...</td>\n",
       "      <td>0</td>\n",
       "      <td>0</td>\n",
       "      <td>0</td>\n",
       "      <td>0</td>\n",
       "      <td>0</td>\n",
       "      <td>0</td>\n",
       "      <td>0</td>\n",
       "      <td>0</td>\n",
       "      <td>0</td>\n",
       "      <td>0</td>\n",
       "    </tr>\n",
       "  </tbody>\n",
       "</table>\n",
       "<p>1757 rows × 125 columns</p>\n",
       "</div>"
      ],
      "text/plain": [
       "       ref  cocoa_percent  rating  Africa  Australia  Bali  Belize  Bolivia  \\\n",
       "1     1676           70.0    2.75       0          0     0       0        0   \n",
       "2     1676           70.0    3.00       0          0     0       0        0   \n",
       "3     1680           70.0    3.50       0          0     0       0        0   \n",
       "4     1704           70.0    3.50       0          0     0       0        0   \n",
       "5     1315           70.0    2.75       0          0     0       0        0   \n",
       "...    ...            ...     ...     ...        ...   ...     ...      ...   \n",
       "1790   647           70.0    3.75       0          0     0       0        0   \n",
       "1791   749           65.0    3.00       0          0     0       0        0   \n",
       "1792   749           65.0    3.50       0          0     0       0        0   \n",
       "1793   781           62.0    3.25       0          0     0       0        0   \n",
       "1794   486           65.0    3.00       0          0     0       0        0   \n",
       "\n",
       "      Brasil  Brazil  ...  comp_Spain  comp_St. Lucia  comp_Suriname  \\\n",
       "1          0       0  ...           0               0              0   \n",
       "2          0       0  ...           0               0              0   \n",
       "3          0       0  ...           0               0              0   \n",
       "4          0       0  ...           0               0              0   \n",
       "5          0       0  ...           0               0              0   \n",
       "...      ...     ...  ...         ...             ...            ...   \n",
       "1790       0       0  ...           0               0              0   \n",
       "1791       0       0  ...           0               0              0   \n",
       "1792       0       0  ...           0               0              0   \n",
       "1793       0       0  ...           0               0              0   \n",
       "1794       0       1  ...           0               0              0   \n",
       "\n",
       "      comp_Sweden  comp_Switzerland  comp_U.K.  comp_U.S.A.  comp_Venezuela  \\\n",
       "1               0                 0          0            0               0   \n",
       "2               0                 0          0            0               0   \n",
       "3               0                 0          0            0               0   \n",
       "4               0                 0          0            0               0   \n",
       "5               0                 0          0            0               0   \n",
       "...           ...               ...        ...          ...             ...   \n",
       "1790            0                 0          0            0               0   \n",
       "1791            0                 0          0            0               0   \n",
       "1792            0                 0          0            0               0   \n",
       "1793            0                 0          0            0               0   \n",
       "1794            0                 0          0            0               0   \n",
       "\n",
       "      comp_Vietnam  comp_Wales  \n",
       "1                0           0  \n",
       "2                0           0  \n",
       "3                0           0  \n",
       "4                0           0  \n",
       "5                0           0  \n",
       "...            ...         ...  \n",
       "1790             0           0  \n",
       "1791             0           0  \n",
       "1792             0           0  \n",
       "1793             0           0  \n",
       "1794             0           0  \n",
       "\n",
       "[1757 rows x 125 columns]"
      ]
     },
     "execution_count": 36,
     "metadata": {},
     "output_type": "execute_result"
    }
   ],
   "source": [
    "# Итоговый датасет\n",
    "df"
   ]
  },
  {
   "cell_type": "markdown",
   "metadata": {},
   "source": [
    "\n",
    "## 2 Разбивка на трейн-тест  \n",
    "*TODO: нужно разбить на 3 части, трейн, валидация, отложенная выборка: на валидации подбираем параметры модели, на отложенной - окончательный вывод о модели*"
   ]
  },
  {
   "cell_type": "code",
   "execution_count": 37,
   "metadata": {},
   "outputs": [],
   "source": [
    "X_train, X_test, y_train, y_test = train_test_split(df.drop('rating', axis=1), df.rating, \n",
    "                                                    random_state=RANDOM_STATE, test_size = 0.2)"
   ]
  },
  {
   "cell_type": "code",
   "execution_count": 38,
   "metadata": {},
   "outputs": [],
   "source": [
    "# Как будем оценивать модель? возьмем для начала MAE\n",
    "# Будем рассматривать эту задачу как зачаду регресии (можно также попробовать классификацию, но нужно уменшить шаг оценки хотя бы до 0.5)"
   ]
  },
  {
   "cell_type": "markdown",
   "metadata": {},
   "source": [
    "## 3 Модель"
   ]
  },
  {
   "cell_type": "markdown",
   "metadata": {},
   "source": [
    "### 3.1 RandomForestRegressor"
   ]
  },
  {
   "cell_type": "code",
   "execution_count": 39,
   "metadata": {},
   "outputs": [],
   "source": [
    "# для начала посмотрим, какая будет средняя отностельная ошибка, если мы предскажем рейтинг = среднему рейтингу на тренировочной выборке\n",
    "y_naive = y_train.mean() * np.ones(y_test.shape)"
   ]
  },
  {
   "cell_type": "code",
   "execution_count": 40,
   "metadata": {},
   "outputs": [
    {
     "data": {
      "text/plain": [
       "0.388748584600453"
      ]
     },
     "execution_count": 40,
     "metadata": {},
     "output_type": "execute_result"
    }
   ],
   "source": [
    "mean_absolute_error(y_test, y_naive) # то есть, модель должна существенно улучшить точность предсказания в 0.38"
   ]
  },
  {
   "cell_type": "code",
   "execution_count": 41,
   "metadata": {},
   "outputs": [
    {
     "data": {
      "text/plain": [
       "0.3594041475018037"
      ]
     },
     "execution_count": 41,
     "metadata": {},
     "output_type": "execute_result"
    }
   ],
   "source": [
    "# для pipeline возьмем RangomForestRegressor  - хорошая модель, но можено еще CatBoost попробовать потом для улучшения\n",
    "model = RandomForestRegressor(random_state=RANDOM_STATE)\n",
    "model.fit(X_train, y_train)\n",
    "y_pred = model.predict(X_test)\n",
    "mean_absolute_error(y_test, y_pred)\n",
    "# Вывод: модель \"по умолчению\" не дает существенного улучшения метрики по сравнению с примитивной моделью"
   ]
  },
  {
   "cell_type": "code",
   "execution_count": 42,
   "metadata": {},
   "outputs": [],
   "source": [
    "## Воспользуемся лекцией о случайном лесе, попробуем оттуда перебор параметров:\n",
    "n_estimators = [int(x) for x in np.linspace(start = 200, stop = 2000, num = 10)]\n",
    "max_features = ['auto', 'sqrt']\n",
    "max_depth = [int(x) for x in np.linspace(10, 110, num = 11)]\n",
    "max_depth.append(None)\n",
    "min_samples_split = [2, 5, 10]\n",
    "min_samples_leaf = [1, 2, 4]\n",
    "bootstrap = [True, False]\n",
    "random_grid = {'n_estimators': n_estimators,\n",
    "               'max_features': max_features,\n",
    "               'max_depth': max_depth,\n",
    "               'min_samples_split': min_samples_split,\n",
    "               'min_samples_leaf': min_samples_leaf,\n",
    "               'bootstrap': bootstrap}"
   ]
  },
  {
   "cell_type": "code",
   "execution_count": 43,
   "metadata": {},
   "outputs": [
    {
     "name": "stdout",
     "output_type": "stream",
     "text": [
      "Fitting 3 folds for each of 100 candidates, totalling 300 fits\n"
     ]
    },
    {
     "name": "stderr",
     "output_type": "stream",
     "text": [
      "[Parallel(n_jobs=-1)]: Using backend LokyBackend with 4 concurrent workers.\n",
      "[Parallel(n_jobs=-1)]: Done  33 tasks      | elapsed:  1.5min\n",
      "[Parallel(n_jobs=-1)]: Done 154 tasks      | elapsed:  6.5min\n",
      "[Parallel(n_jobs=-1)]: Done 300 out of 300 | elapsed: 12.9min finished\n"
     ]
    },
    {
     "data": {
      "text/plain": [
       "RandomizedSearchCV(cv=3, estimator=RandomForestRegressor(random_state=23),\n",
       "                   n_iter=100, n_jobs=-1,\n",
       "                   param_distributions={'bootstrap': [True, False],\n",
       "                                        'max_depth': [10, 20, 30, 40, 50, 60,\n",
       "                                                      70, 80, 90, 100, 110,\n",
       "                                                      None],\n",
       "                                        'max_features': ['auto', 'sqrt'],\n",
       "                                        'min_samples_leaf': [1, 2, 4],\n",
       "                                        'min_samples_split': [2, 5, 10],\n",
       "                                        'n_estimators': [200, 400, 600, 800,\n",
       "                                                         1000, 1200, 1400, 1600,\n",
       "                                                         1800, 2000]},\n",
       "                   random_state=42, verbose=2)"
      ]
     },
     "execution_count": 43,
     "metadata": {},
     "output_type": "execute_result"
    }
   ],
   "source": [
    "rf = RandomForestRegressor(random_state=RANDOM_STATE)\n",
    "rf_random = RandomizedSearchCV(estimator=rf, param_distributions=random_grid, n_iter=100, \n",
    "                               cv=3, verbose=2, random_state=42, n_jobs=-1)\n",
    "rf_random.fit(X_train, y_train)"
   ]
  },
  {
   "cell_type": "code",
   "execution_count": 44,
   "metadata": {},
   "outputs": [
    {
     "data": {
      "text/plain": [
       "0.355733107765975"
      ]
     },
     "execution_count": 44,
     "metadata": {},
     "output_type": "execute_result"
    }
   ],
   "source": [
    "y_pred = rf_random.predict(X_test)\n",
    "mean_absolute_error(y_test, y_pred)\n",
    "# результат - MAE 0.355. Нельзя назвать хорошом, нужно разбираться, почему так"
   ]
  },
  {
   "cell_type": "code",
   "execution_count": 45,
   "metadata": {},
   "outputs": [
    {
     "data": {
      "text/plain": [
       "{'n_estimators': 1000,\n",
       " 'min_samples_split': 2,\n",
       " 'min_samples_leaf': 1,\n",
       " 'max_features': 'sqrt',\n",
       " 'max_depth': 20,\n",
       " 'bootstrap': True}"
      ]
     },
     "execution_count": 45,
     "metadata": {},
     "output_type": "execute_result"
    }
   ],
   "source": [
    "rf_random.best_params_"
   ]
  },
  {
   "cell_type": "markdown",
   "metadata": {},
   "source": [
    "## Мои идеи для дальнейшей работы: \n",
    "0. Понять, почему случайный лес дал такой результат, может ли он быть улучшен, является ли эта модель подходящей для этой задачи?  \n",
    "1. Попробовать другие модели-регрессоры: линейная регрессия, катбуст\n",
    "2. Попробовать сделать классификацию, для этого понизить количество возможных оценок (например: 1, 2, 3, 3.5, 4, 5).\n",
    "3. Для классификации взять те же самые катбуст, рандом форест, логрег.\n",
    "4. Попробовать все предыдущие модели прогнать на еще двух датасетах: 1-самый простой, оставить минимум столбцов. 2 - \"усложнить\", поработать еще с данными, построить дополнительные фичи, и возможно, отбросить первоначальные фичи.\n",
    "5. Ансамблирование моделей?\n",
    "6. Нормирование признаков!\n"
   ]
  },
  {
   "cell_type": "code",
   "execution_count": null,
   "metadata": {},
   "outputs": [],
   "source": [
    "9-8"
   ]
  },
  {
   "cell_type": "code",
   "execution_count": null,
   "metadata": {},
   "outputs": [],
   "source": []
  }
 ],
 "metadata": {
  "kernelspec": {
   "display_name": "Python 3",
   "language": "python",
   "name": "python3"
  },
  "language_info": {
   "codemirror_mode": {
    "name": "ipython",
    "version": 3
   },
   "file_extension": ".py",
   "mimetype": "text/x-python",
   "name": "python",
   "nbconvert_exporter": "python",
   "pygments_lexer": "ipython3",
   "version": "3.7.7"
  }
 },
 "nbformat": 4,
 "nbformat_minor": 4
}
