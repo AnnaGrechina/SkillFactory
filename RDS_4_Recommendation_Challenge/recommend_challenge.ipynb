{
 "cells": [
  {
   "cell_type": "markdown",
   "metadata": {},
   "source": [
    "## Рекомендательная система"
   ]
  },
  {
   "cell_type": "code",
   "execution_count": 1,
   "metadata": {},
   "outputs": [],
   "source": [
    "import numpy as np\n",
    "import pandas as pd\n",
    "import matplotlib.pyplot as plt\n",
    "import seaborn as sns\n",
    "%matplotlib inline"
   ]
  },
  {
   "cell_type": "code",
   "execution_count": 2,
   "metadata": {},
   "outputs": [
    {
     "name": "stderr",
     "output_type": "stream",
     "text": [
      "C:\\apps\\Anaconda3\\lib\\site-packages\\IPython\\core\\interactiveshell.py:3063: DtypeWarning: Columns (8) have mixed types.Specify dtype option on import or set low_memory=False.\n",
      "  interactivity=interactivity, compiler=compiler, result=result)\n",
      "C:\\apps\\Anaconda3\\lib\\site-packages\\IPython\\core\\interactiveshell.py:3063: DtypeWarning: Columns (5) have mixed types.Specify dtype option on import or set low_memory=False.\n",
      "  interactivity=interactivity, compiler=compiler, result=result)\n"
     ]
    }
   ],
   "source": [
    "# читаем файлы\n",
    "data_train = pd.read_csv('data/train.csv')\n",
    "data_test = pd.read_csv('data/test.csv')\n",
    "submission = pd.read_csv('data/sample_submission.csv')\n",
    "train = data_train.copy()\n",
    "test = data_test.copy()"
   ]
  },
  {
   "cell_type": "markdown",
   "metadata": {},
   "source": [
    "## 1 EDA"
   ]
  },
  {
   "cell_type": "code",
   "execution_count": 3,
   "metadata": {},
   "outputs": [
    {
     "name": "stdout",
     "output_type": "stream",
     "text": [
      "train.shape =  (857895, 14)\n"
     ]
    },
    {
     "data": {
      "text/html": [
       "<div>\n",
       "<style scoped>\n",
       "    .dataframe tbody tr th:only-of-type {\n",
       "        vertical-align: middle;\n",
       "    }\n",
       "\n",
       "    .dataframe tbody tr th {\n",
       "        vertical-align: top;\n",
       "    }\n",
       "\n",
       "    .dataframe thead th {\n",
       "        text-align: right;\n",
       "    }\n",
       "</style>\n",
       "<table border=\"1\" class=\"dataframe\">\n",
       "  <thead>\n",
       "    <tr style=\"text-align: right;\">\n",
       "      <th></th>\n",
       "      <th>overall</th>\n",
       "      <th>verified</th>\n",
       "      <th>reviewTime</th>\n",
       "      <th>asin</th>\n",
       "      <th>reviewerName</th>\n",
       "      <th>reviewText</th>\n",
       "      <th>summary</th>\n",
       "      <th>unixReviewTime</th>\n",
       "      <th>vote</th>\n",
       "      <th>style</th>\n",
       "      <th>image</th>\n",
       "      <th>userid</th>\n",
       "      <th>itemid</th>\n",
       "      <th>rating</th>\n",
       "    </tr>\n",
       "  </thead>\n",
       "  <tbody>\n",
       "    <tr>\n",
       "      <th>0</th>\n",
       "      <td>5.0</td>\n",
       "      <td>True</td>\n",
       "      <td>10 4, 2016</td>\n",
       "      <td>B01CPNIEQG</td>\n",
       "      <td>Heather</td>\n",
       "      <td>These are my FAVORITE spices in my collection....</td>\n",
       "      <td>Must Add to your Spice kitchen!</td>\n",
       "      <td>1475539200</td>\n",
       "      <td>NaN</td>\n",
       "      <td>NaN</td>\n",
       "      <td>NaN</td>\n",
       "      <td>102179</td>\n",
       "      <td>37138</td>\n",
       "      <td>1.0</td>\n",
       "    </tr>\n",
       "    <tr>\n",
       "      <th>1</th>\n",
       "      <td>5.0</td>\n",
       "      <td>True</td>\n",
       "      <td>03 1, 2016</td>\n",
       "      <td>B006F63M8U</td>\n",
       "      <td>Linda Odom</td>\n",
       "      <td>Add A package to my Coffee and it makes a good...</td>\n",
       "      <td>Milk Chocolate Swiis MIss Hot Cocoa Mix</td>\n",
       "      <td>1456790400</td>\n",
       "      <td>NaN</td>\n",
       "      <td>{'Size:': ' 60-0.73 oz Envelopes'}</td>\n",
       "      <td>NaN</td>\n",
       "      <td>3625</td>\n",
       "      <td>17322</td>\n",
       "      <td>1.0</td>\n",
       "    </tr>\n",
       "    <tr>\n",
       "      <th>2</th>\n",
       "      <td>5.0</td>\n",
       "      <td>True</td>\n",
       "      <td>06 26, 2016</td>\n",
       "      <td>B00112O8NG</td>\n",
       "      <td>DesertBlossom</td>\n",
       "      <td>I love the Torani syrups, but not the prices o...</td>\n",
       "      <td>Love these sugar free syrups, but didn't love ...</td>\n",
       "      <td>1466899200</td>\n",
       "      <td>28</td>\n",
       "      <td>NaN</td>\n",
       "      <td>NaN</td>\n",
       "      <td>39495</td>\n",
       "      <td>5600</td>\n",
       "      <td>1.0</td>\n",
       "    </tr>\n",
       "    <tr>\n",
       "      <th>3</th>\n",
       "      <td>5.0</td>\n",
       "      <td>True</td>\n",
       "      <td>09 5, 2013</td>\n",
       "      <td>B00MRAQUM8</td>\n",
       "      <td>Connie L. Reaves</td>\n",
       "      <td>Very fragrant. The price can't be beat. I do l...</td>\n",
       "      <td>Nice !</td>\n",
       "      <td>1378339200</td>\n",
       "      <td>NaN</td>\n",
       "      <td>NaN</td>\n",
       "      <td>NaN</td>\n",
       "      <td>72854</td>\n",
       "      <td>30249</td>\n",
       "      <td>1.0</td>\n",
       "    </tr>\n",
       "    <tr>\n",
       "      <th>4</th>\n",
       "      <td>5.0</td>\n",
       "      <td>True</td>\n",
       "      <td>09 14, 2016</td>\n",
       "      <td>B000R7RN0G</td>\n",
       "      <td>Mike P.</td>\n",
       "      <td>These are my favorite jalapeno chips so far. T...</td>\n",
       "      <td>These are my favorite jalapeno chips so far</td>\n",
       "      <td>1473811200</td>\n",
       "      <td>NaN</td>\n",
       "      <td>{'Flavor:': ' Jalapeo'}</td>\n",
       "      <td>NaN</td>\n",
       "      <td>74859</td>\n",
       "      <td>4349</td>\n",
       "      <td>1.0</td>\n",
       "    </tr>\n",
       "  </tbody>\n",
       "</table>\n",
       "</div>"
      ],
      "text/plain": [
       "   overall  verified   reviewTime        asin      reviewerName  \\\n",
       "0      5.0      True   10 4, 2016  B01CPNIEQG           Heather   \n",
       "1      5.0      True   03 1, 2016  B006F63M8U        Linda Odom   \n",
       "2      5.0      True  06 26, 2016  B00112O8NG     DesertBlossom   \n",
       "3      5.0      True   09 5, 2013  B00MRAQUM8  Connie L. Reaves   \n",
       "4      5.0      True  09 14, 2016  B000R7RN0G           Mike P.   \n",
       "\n",
       "                                          reviewText  \\\n",
       "0  These are my FAVORITE spices in my collection....   \n",
       "1  Add A package to my Coffee and it makes a good...   \n",
       "2  I love the Torani syrups, but not the prices o...   \n",
       "3  Very fragrant. The price can't be beat. I do l...   \n",
       "4  These are my favorite jalapeno chips so far. T...   \n",
       "\n",
       "                                             summary  unixReviewTime vote  \\\n",
       "0                    Must Add to your Spice kitchen!      1475539200  NaN   \n",
       "1            Milk Chocolate Swiis MIss Hot Cocoa Mix      1456790400  NaN   \n",
       "2  Love these sugar free syrups, but didn't love ...      1466899200   28   \n",
       "3                                             Nice !      1378339200  NaN   \n",
       "4        These are my favorite jalapeno chips so far      1473811200  NaN   \n",
       "\n",
       "                                style image  userid  itemid  rating  \n",
       "0                                 NaN   NaN  102179   37138     1.0  \n",
       "1  {'Size:': ' 60-0.73 oz Envelopes'}   NaN    3625   17322     1.0  \n",
       "2                                 NaN   NaN   39495    5600     1.0  \n",
       "3                                 NaN   NaN   72854   30249     1.0  \n",
       "4             {'Flavor:': ' Jalapeo'}   NaN   74859    4349     1.0  "
      ]
     },
     "execution_count": 3,
     "metadata": {},
     "output_type": "execute_result"
    }
   ],
   "source": [
    "# посмотрим, что вообще представляет из себя датасет\n",
    "print('train.shape = ', train.shape)\n",
    "train.head(5)"
   ]
  },
  {
   "cell_type": "code",
   "execution_count": 4,
   "metadata": {},
   "outputs": [
    {
     "name": "stdout",
     "output_type": "stream",
     "text": [
      "<class 'pandas.core.frame.DataFrame'>\n",
      "RangeIndex: 857895 entries, 0 to 857894\n",
      "Data columns (total 14 columns):\n",
      " #   Column          Non-Null Count   Dtype  \n",
      "---  ------          --------------   -----  \n",
      " 0   overall         857895 non-null  float64\n",
      " 1   verified        857895 non-null  bool   \n",
      " 2   reviewTime      857895 non-null  object \n",
      " 3   asin            857895 non-null  object \n",
      " 4   reviewerName    857719 non-null  object \n",
      " 5   reviewText      857616 non-null  object \n",
      " 6   summary         857725 non-null  object \n",
      " 7   unixReviewTime  857895 non-null  int64  \n",
      " 8   vote            118740 non-null  object \n",
      " 9   style           444406 non-null  object \n",
      " 10  image           7142 non-null    object \n",
      " 11  userid          857895 non-null  int64  \n",
      " 12  itemid          857895 non-null  int64  \n",
      " 13  rating          857895 non-null  float64\n",
      "dtypes: bool(1), float64(2), int64(3), object(8)\n",
      "memory usage: 85.9+ MB\n"
     ]
    }
   ],
   "source": [
    "# посмотрим на типы данных и количество пропущенных значений\n",
    "train.info()"
   ]
  },
  {
   "cell_type": "markdown",
   "metadata": {},
   "source": [
    "Есть немного пропусков в поле *reviewerName*. Cкорее всего, это никак не должно влиять на остальные данные. Посмотрим, как выглядят данные с пропущенными *reviewerName*. Видим, что в остальном данные выглядят ок, поэтому просто удалим этот столбец и будем идентифицировать пользователья только по *userid*. Дополнительно убедимся в этом, посмотрев на распределениe первоначальной оценки *overall* и разброс времени оставления отзывов для клиентов с наличием *reviewerName* и его отсутствием."
   ]
  },
  {
   "cell_type": "code",
   "execution_count": 5,
   "metadata": {},
   "outputs": [
    {
     "data": {
      "text/html": [
       "<div>\n",
       "<style scoped>\n",
       "    .dataframe tbody tr th:only-of-type {\n",
       "        vertical-align: middle;\n",
       "    }\n",
       "\n",
       "    .dataframe tbody tr th {\n",
       "        vertical-align: top;\n",
       "    }\n",
       "\n",
       "    .dataframe thead th {\n",
       "        text-align: right;\n",
       "    }\n",
       "</style>\n",
       "<table border=\"1\" class=\"dataframe\">\n",
       "  <thead>\n",
       "    <tr style=\"text-align: right;\">\n",
       "      <th></th>\n",
       "      <th>overall</th>\n",
       "      <th>verified</th>\n",
       "      <th>reviewTime</th>\n",
       "      <th>asin</th>\n",
       "      <th>reviewerName</th>\n",
       "      <th>reviewText</th>\n",
       "      <th>summary</th>\n",
       "      <th>unixReviewTime</th>\n",
       "      <th>vote</th>\n",
       "      <th>style</th>\n",
       "      <th>image</th>\n",
       "      <th>userid</th>\n",
       "      <th>itemid</th>\n",
       "      <th>rating</th>\n",
       "    </tr>\n",
       "  </thead>\n",
       "  <tbody>\n",
       "    <tr>\n",
       "      <th>24606</th>\n",
       "      <td>5.0</td>\n",
       "      <td>True</td>\n",
       "      <td>10 9, 2015</td>\n",
       "      <td>B0029J6HU2</td>\n",
       "      <td>NaN</td>\n",
       "      <td>Nice</td>\n",
       "      <td>Love</td>\n",
       "      <td>1444348800</td>\n",
       "      <td>NaN</td>\n",
       "      <td>NaN</td>\n",
       "      <td>NaN</td>\n",
       "      <td>20032</td>\n",
       "      <td>10382</td>\n",
       "      <td>1.0</td>\n",
       "    </tr>\n",
       "    <tr>\n",
       "      <th>612569</th>\n",
       "      <td>5.0</td>\n",
       "      <td>True</td>\n",
       "      <td>04 30, 2018</td>\n",
       "      <td>B001UUEWIA</td>\n",
       "      <td>NaN</td>\n",
       "      <td>I gobbled these little things by the handful</td>\n",
       "      <td>Delicious</td>\n",
       "      <td>1525046400</td>\n",
       "      <td>NaN</td>\n",
       "      <td>{'Size:': ' 40 - Ounce'}</td>\n",
       "      <td>NaN</td>\n",
       "      <td>103223</td>\n",
       "      <td>9783</td>\n",
       "      <td>1.0</td>\n",
       "    </tr>\n",
       "    <tr>\n",
       "      <th>84100</th>\n",
       "      <td>3.0</td>\n",
       "      <td>True</td>\n",
       "      <td>02 1, 2016</td>\n",
       "      <td>B00BBVVJHK</td>\n",
       "      <td>NaN</td>\n",
       "      <td>take too long to receivce it , but taste good</td>\n",
       "      <td>Three Stars</td>\n",
       "      <td>1454284800</td>\n",
       "      <td>NaN</td>\n",
       "      <td>{'Flavor:': ' Grape'}</td>\n",
       "      <td>NaN</td>\n",
       "      <td>4801</td>\n",
       "      <td>21585</td>\n",
       "      <td>0.0</td>\n",
       "    </tr>\n",
       "  </tbody>\n",
       "</table>\n",
       "</div>"
      ],
      "text/plain": [
       "        overall  verified   reviewTime        asin reviewerName  \\\n",
       "24606       5.0      True   10 9, 2015  B0029J6HU2          NaN   \n",
       "612569      5.0      True  04 30, 2018  B001UUEWIA          NaN   \n",
       "84100       3.0      True   02 1, 2016  B00BBVVJHK          NaN   \n",
       "\n",
       "                                           reviewText      summary  \\\n",
       "24606                                            Nice         Love   \n",
       "612569   I gobbled these little things by the handful    Delicious   \n",
       "84100   take too long to receivce it , but taste good  Three Stars   \n",
       "\n",
       "        unixReviewTime vote                     style image  userid  itemid  \\\n",
       "24606       1444348800  NaN                       NaN   NaN   20032   10382   \n",
       "612569      1525046400  NaN  {'Size:': ' 40 - Ounce'}   NaN  103223    9783   \n",
       "84100       1454284800  NaN     {'Flavor:': ' Grape'}   NaN    4801   21585   \n",
       "\n",
       "        rating  \n",
       "24606      1.0  \n",
       "612569     1.0  \n",
       "84100      0.0  "
      ]
     },
     "execution_count": 5,
     "metadata": {},
     "output_type": "execute_result"
    }
   ],
   "source": [
    "train[train.reviewerName.isna()].sample(3)"
   ]
  },
  {
   "cell_type": "code",
   "execution_count": 6,
   "metadata": {},
   "outputs": [
    {
     "data": {
      "image/png": "[encoded data removed]",
      "text/plain": [
       "<Figure size 1080x360 with 3 Axes>"
      ]
     },
     "metadata": {
      "needs_background": "light"
     },
     "output_type": "display_data"
    }
   ],
   "source": [
    "fig, axes = plt.subplots(1, 3, figsize = (15,5))\n",
    "axes[0].set_title('without name')\n",
    "axes[0].set_xlabel('overall')\n",
    "axes[1].set_xlabel('overall')\n",
    "axes[1].set_title('with user name')\n",
    "axes[0].hist(train[train.reviewerName.isna() == True].overall)\n",
    "axes[1].hist(train[train.reviewerName.isna() == False].overall)\n",
    "axes[2].set_ylabel('unixTime')\n",
    "axes[2].boxplot([train[train.reviewerName.isna()].unixReviewTime, train[train.reviewerName.isna() == False].unixReviewTime],\n",
    "               labels=['without name', 'with user name'])\n",
    "plt.show()"
   ]
  },
  {
   "cell_type": "code",
   "execution_count": 7,
   "metadata": {},
   "outputs": [
    {
     "data": {
      "text/html": [
       "<div>\n",
       "<style scoped>\n",
       "    .dataframe tbody tr th:only-of-type {\n",
       "        vertical-align: middle;\n",
       "    }\n",
       "\n",
       "    .dataframe tbody tr th {\n",
       "        vertical-align: top;\n",
       "    }\n",
       "\n",
       "    .dataframe thead th {\n",
       "        text-align: right;\n",
       "    }\n",
       "</style>\n",
       "<table border=\"1\" class=\"dataframe\">\n",
       "  <thead>\n",
       "    <tr style=\"text-align: right;\">\n",
       "      <th></th>\n",
       "      <th>overall</th>\n",
       "      <th>verified</th>\n",
       "      <th>reviewTime</th>\n",
       "      <th>asin</th>\n",
       "      <th>reviewText</th>\n",
       "      <th>summary</th>\n",
       "      <th>unixReviewTime</th>\n",
       "      <th>vote</th>\n",
       "      <th>style</th>\n",
       "      <th>image</th>\n",
       "      <th>userid</th>\n",
       "      <th>itemid</th>\n",
       "      <th>rating</th>\n",
       "    </tr>\n",
       "  </thead>\n",
       "  <tbody>\n",
       "    <tr>\n",
       "      <th>0</th>\n",
       "      <td>5.0</td>\n",
       "      <td>True</td>\n",
       "      <td>10 4, 2016</td>\n",
       "      <td>B01CPNIEQG</td>\n",
       "      <td>These are my FAVORITE spices in my collection....</td>\n",
       "      <td>Must Add to your Spice kitchen!</td>\n",
       "      <td>1475539200</td>\n",
       "      <td>NaN</td>\n",
       "      <td>NaN</td>\n",
       "      <td>NaN</td>\n",
       "      <td>102179</td>\n",
       "      <td>37138</td>\n",
       "      <td>1.0</td>\n",
       "    </tr>\n",
       "    <tr>\n",
       "      <th>1</th>\n",
       "      <td>5.0</td>\n",
       "      <td>True</td>\n",
       "      <td>03 1, 2016</td>\n",
       "      <td>B006F63M8U</td>\n",
       "      <td>Add A package to my Coffee and it makes a good...</td>\n",
       "      <td>Milk Chocolate Swiis MIss Hot Cocoa Mix</td>\n",
       "      <td>1456790400</td>\n",
       "      <td>NaN</td>\n",
       "      <td>{'Size:': ' 60-0.73 oz Envelopes'}</td>\n",
       "      <td>NaN</td>\n",
       "      <td>3625</td>\n",
       "      <td>17322</td>\n",
       "      <td>1.0</td>\n",
       "    </tr>\n",
       "    <tr>\n",
       "      <th>2</th>\n",
       "      <td>5.0</td>\n",
       "      <td>True</td>\n",
       "      <td>06 26, 2016</td>\n",
       "      <td>B00112O8NG</td>\n",
       "      <td>I love the Torani syrups, but not the prices o...</td>\n",
       "      <td>Love these sugar free syrups, but didn't love ...</td>\n",
       "      <td>1466899200</td>\n",
       "      <td>28</td>\n",
       "      <td>NaN</td>\n",
       "      <td>NaN</td>\n",
       "      <td>39495</td>\n",
       "      <td>5600</td>\n",
       "      <td>1.0</td>\n",
       "    </tr>\n",
       "    <tr>\n",
       "      <th>3</th>\n",
       "      <td>5.0</td>\n",
       "      <td>True</td>\n",
       "      <td>09 5, 2013</td>\n",
       "      <td>B00MRAQUM8</td>\n",
       "      <td>Very fragrant. The price can't be beat. I do l...</td>\n",
       "      <td>Nice !</td>\n",
       "      <td>1378339200</td>\n",
       "      <td>NaN</td>\n",
       "      <td>NaN</td>\n",
       "      <td>NaN</td>\n",
       "      <td>72854</td>\n",
       "      <td>30249</td>\n",
       "      <td>1.0</td>\n",
       "    </tr>\n",
       "    <tr>\n",
       "      <th>4</th>\n",
       "      <td>5.0</td>\n",
       "      <td>True</td>\n",
       "      <td>09 14, 2016</td>\n",
       "      <td>B000R7RN0G</td>\n",
       "      <td>These are my favorite jalapeno chips so far. T...</td>\n",
       "      <td>These are my favorite jalapeno chips so far</td>\n",
       "      <td>1473811200</td>\n",
       "      <td>NaN</td>\n",
       "      <td>{'Flavor:': ' Jalapeo'}</td>\n",
       "      <td>NaN</td>\n",
       "      <td>74859</td>\n",
       "      <td>4349</td>\n",
       "      <td>1.0</td>\n",
       "    </tr>\n",
       "    <tr>\n",
       "      <th>...</th>\n",
       "      <td>...</td>\n",
       "      <td>...</td>\n",
       "      <td>...</td>\n",
       "      <td>...</td>\n",
       "      <td>...</td>\n",
       "      <td>...</td>\n",
       "      <td>...</td>\n",
       "      <td>...</td>\n",
       "      <td>...</td>\n",
       "      <td>...</td>\n",
       "      <td>...</td>\n",
       "      <td>...</td>\n",
       "      <td>...</td>\n",
       "    </tr>\n",
       "    <tr>\n",
       "      <th>857890</th>\n",
       "      <td>5.0</td>\n",
       "      <td>True</td>\n",
       "      <td>04 2, 2013</td>\n",
       "      <td>B000H7ELTW</td>\n",
       "      <td>Next to the round variety hanging on my cherry...</td>\n",
       "      <td>next to the round variety............</td>\n",
       "      <td>1364860800</td>\n",
       "      <td>NaN</td>\n",
       "      <td>{'Flavor:': ' Dried Cherries'}</td>\n",
       "      <td>NaN</td>\n",
       "      <td>59433</td>\n",
       "      <td>2566</td>\n",
       "      <td>1.0</td>\n",
       "    </tr>\n",
       "    <tr>\n",
       "      <th>857891</th>\n",
       "      <td>2.0</td>\n",
       "      <td>True</td>\n",
       "      <td>12 13, 2015</td>\n",
       "      <td>B0012NI02O</td>\n",
       "      <td>Not my cup of tea.</td>\n",
       "      <td>Two Stars</td>\n",
       "      <td>1449964800</td>\n",
       "      <td>NaN</td>\n",
       "      <td>{'Package Quantity:': ' 1'}</td>\n",
       "      <td>NaN</td>\n",
       "      <td>86473</td>\n",
       "      <td>5828</td>\n",
       "      <td>0.0</td>\n",
       "    </tr>\n",
       "    <tr>\n",
       "      <th>857892</th>\n",
       "      <td>4.0</td>\n",
       "      <td>False</td>\n",
       "      <td>09 21, 2016</td>\n",
       "      <td>B000LKX6R8</td>\n",
       "      <td>I really like these noodles, I just gave it on...</td>\n",
       "      <td>good but better value elsewhere</td>\n",
       "      <td>1474416000</td>\n",
       "      <td>NaN</td>\n",
       "      <td>{'Size:': ' Pack of 8'}</td>\n",
       "      <td>NaN</td>\n",
       "      <td>88</td>\n",
       "      <td>3251</td>\n",
       "      <td>1.0</td>\n",
       "    </tr>\n",
       "    <tr>\n",
       "      <th>857893</th>\n",
       "      <td>4.0</td>\n",
       "      <td>True</td>\n",
       "      <td>11 1, 2015</td>\n",
       "      <td>B00BUKL666</td>\n",
       "      <td>I like these, they are the kind for a snack an...</td>\n",
       "      <td>Great selection</td>\n",
       "      <td>1446336000</td>\n",
       "      <td>NaN</td>\n",
       "      <td>NaN</td>\n",
       "      <td>NaN</td>\n",
       "      <td>41540</td>\n",
       "      <td>22208</td>\n",
       "      <td>1.0</td>\n",
       "    </tr>\n",
       "    <tr>\n",
       "      <th>857894</th>\n",
       "      <td>5.0</td>\n",
       "      <td>True</td>\n",
       "      <td>08 3, 2017</td>\n",
       "      <td>B000JJHDVG</td>\n",
       "      <td>Like this product.  Its great in the shaker fo...</td>\n",
       "      <td>Five Stars</td>\n",
       "      <td>1501718400</td>\n",
       "      <td>NaN</td>\n",
       "      <td>NaN</td>\n",
       "      <td>NaN</td>\n",
       "      <td>466</td>\n",
       "      <td>2931</td>\n",
       "      <td>1.0</td>\n",
       "    </tr>\n",
       "  </tbody>\n",
       "</table>\n",
       "<p>857895 rows × 13 columns</p>\n",
       "</div>"
      ],
      "text/plain": [
       "        overall  verified   reviewTime        asin  \\\n",
       "0           5.0      True   10 4, 2016  B01CPNIEQG   \n",
       "1           5.0      True   03 1, 2016  B006F63M8U   \n",
       "2           5.0      True  06 26, 2016  B00112O8NG   \n",
       "3           5.0      True   09 5, 2013  B00MRAQUM8   \n",
       "4           5.0      True  09 14, 2016  B000R7RN0G   \n",
       "...         ...       ...          ...         ...   \n",
       "857890      5.0      True   04 2, 2013  B000H7ELTW   \n",
       "857891      2.0      True  12 13, 2015  B0012NI02O   \n",
       "857892      4.0     False  09 21, 2016  B000LKX6R8   \n",
       "857893      4.0      True   11 1, 2015  B00BUKL666   \n",
       "857894      5.0      True   08 3, 2017  B000JJHDVG   \n",
       "\n",
       "                                               reviewText  \\\n",
       "0       These are my FAVORITE spices in my collection....   \n",
       "1       Add A package to my Coffee and it makes a good...   \n",
       "2       I love the Torani syrups, but not the prices o...   \n",
       "3       Very fragrant. The price can't be beat. I do l...   \n",
       "4       These are my favorite jalapeno chips so far. T...   \n",
       "...                                                   ...   \n",
       "857890  Next to the round variety hanging on my cherry...   \n",
       "857891                                 Not my cup of tea.   \n",
       "857892  I really like these noodles, I just gave it on...   \n",
       "857893  I like these, they are the kind for a snack an...   \n",
       "857894  Like this product.  Its great in the shaker fo...   \n",
       "\n",
       "                                                  summary  unixReviewTime  \\\n",
       "0                         Must Add to your Spice kitchen!      1475539200   \n",
       "1                 Milk Chocolate Swiis MIss Hot Cocoa Mix      1456790400   \n",
       "2       Love these sugar free syrups, but didn't love ...      1466899200   \n",
       "3                                                  Nice !      1378339200   \n",
       "4             These are my favorite jalapeno chips so far      1473811200   \n",
       "...                                                   ...             ...   \n",
       "857890              next to the round variety............      1364860800   \n",
       "857891                                          Two Stars      1449964800   \n",
       "857892                    good but better value elsewhere      1474416000   \n",
       "857893                                    Great selection      1446336000   \n",
       "857894                                         Five Stars      1501718400   \n",
       "\n",
       "       vote                               style image  userid  itemid  rating  \n",
       "0       NaN                                 NaN   NaN  102179   37138     1.0  \n",
       "1       NaN  {'Size:': ' 60-0.73 oz Envelopes'}   NaN    3625   17322     1.0  \n",
       "2        28                                 NaN   NaN   39495    5600     1.0  \n",
       "3       NaN                                 NaN   NaN   72854   30249     1.0  \n",
       "4       NaN             {'Flavor:': ' Jalapeo'}   NaN   74859    4349     1.0  \n",
       "...     ...                                 ...   ...     ...     ...     ...  \n",
       "857890  NaN      {'Flavor:': ' Dried Cherries'}   NaN   59433    2566     1.0  \n",
       "857891  NaN         {'Package Quantity:': ' 1'}   NaN   86473    5828     0.0  \n",
       "857892  NaN             {'Size:': ' Pack of 8'}   NaN      88    3251     1.0  \n",
       "857893  NaN                                 NaN   NaN   41540   22208     1.0  \n",
       "857894  NaN                                 NaN   NaN     466    2931     1.0  \n",
       "\n",
       "[857895 rows x 13 columns]"
      ]
     },
     "execution_count": 7,
     "metadata": {},
     "output_type": "execute_result"
    }
   ],
   "source": [
    "# удалим колонку reviewerName из тренировочного датасета\n",
    "train.drop('reviewerName', axis = 1, inplace = True)\n",
    "train"
   ]
  },
  {
   "cell_type": "code",
   "execution_count": 8,
   "metadata": {},
   "outputs": [],
   "source": [
    "# переведем дату в формат datetime. \n",
    "# Дублирующий столбец unixReviwTime удалать не будем, возможно с ним проще вычисления проводить\n",
    "train.reviewTime = pd.to_datetime(train.reviewTime)\n",
    "\n"
   ]
  },
  {
   "cell_type": "code",
   "execution_count": 9,
   "metadata": {},
   "outputs": [
    {
     "data": {
      "text/html": [
       "<div>\n",
       "<style scoped>\n",
       "    .dataframe tbody tr th:only-of-type {\n",
       "        vertical-align: middle;\n",
       "    }\n",
       "\n",
       "    .dataframe tbody tr th {\n",
       "        vertical-align: top;\n",
       "    }\n",
       "\n",
       "    .dataframe thead th {\n",
       "        text-align: right;\n",
       "    }\n",
       "</style>\n",
       "<table border=\"1\" class=\"dataframe\">\n",
       "  <thead>\n",
       "    <tr style=\"text-align: right;\">\n",
       "      <th></th>\n",
       "      <th>overall</th>\n",
       "      <th>lenRev</th>\n",
       "      <th>lenSum</th>\n",
       "      <th>vote</th>\n",
       "    </tr>\n",
       "  </thead>\n",
       "  <tbody>\n",
       "    <tr>\n",
       "      <th>overall</th>\n",
       "      <td>1.000000</td>\n",
       "      <td>-0.098732</td>\n",
       "      <td>-0.091622</td>\n",
       "      <td>-0.005140</td>\n",
       "    </tr>\n",
       "    <tr>\n",
       "      <th>lenRev</th>\n",
       "      <td>-0.098732</td>\n",
       "      <td>1.000000</td>\n",
       "      <td>0.331831</td>\n",
       "      <td>0.220251</td>\n",
       "    </tr>\n",
       "    <tr>\n",
       "      <th>lenSum</th>\n",
       "      <td>-0.091622</td>\n",
       "      <td>0.331831</td>\n",
       "      <td>1.000000</td>\n",
       "      <td>0.045504</td>\n",
       "    </tr>\n",
       "    <tr>\n",
       "      <th>vote</th>\n",
       "      <td>-0.005140</td>\n",
       "      <td>0.220251</td>\n",
       "      <td>0.045504</td>\n",
       "      <td>1.000000</td>\n",
       "    </tr>\n",
       "  </tbody>\n",
       "</table>\n",
       "</div>"
      ],
      "text/plain": [
       "          overall    lenRev    lenSum      vote\n",
       "overall  1.000000 -0.098732 -0.091622 -0.005140\n",
       "lenRev  -0.098732  1.000000  0.331831  0.220251\n",
       "lenSum  -0.091622  0.331831  1.000000  0.045504\n",
       "vote    -0.005140  0.220251  0.045504  1.000000"
      ]
     },
     "execution_count": 9,
     "metadata": {},
     "output_type": "execute_result"
    }
   ],
   "source": [
    "# стобец asin - будет нужен для формирования таблицы item_features\n",
    "\n",
    "# определим длину отзыва в символах и посмотрим, влияет ли на оценку\n",
    "train['lenRev'] = train['reviewText'].apply(lambda x: len(str(x)))\n",
    "train['lenSum'] = train['summary'].apply(lambda x: len(str(x)))\n",
    "train['vote'] = train.vote.apply(lambda x: str(x).replace(',',''))\n",
    "train['vote'] = train['vote'].fillna('0').astype('float64')\n",
    "train[['overall', 'lenRev', 'lenSum', 'vote']].corr()\n",
    "# связи практически нет, эти столбцы не нужны\n",
    "#   также нет связи между оценкой и количеством голосований за отзыв"
   ]
  },
  {
   "cell_type": "code",
   "execution_count": 10,
   "metadata": {},
   "outputs": [],
   "source": [
    "train.drop_duplicates(subset=['userid', 'itemid'], keep='last', inplace=True)"
   ]
  },
  {
   "cell_type": "code",
   "execution_count": 11,
   "metadata": {},
   "outputs": [],
   "source": [
    "# удалим столбцы style и image\n",
    "train.drop(['style', 'image'], axis=1, inplace=True)"
   ]
  },
  {
   "cell_type": "markdown",
   "metadata": {},
   "source": [
    "## 2 Построим пробную модель из baseline"
   ]
  },
  {
   "cell_type": "code",
   "execution_count": 12,
   "metadata": {},
   "outputs": [
    {
     "name": "stderr",
     "output_type": "stream",
     "text": [
      "C:\\apps\\Anaconda3\\lib\\site-packages\\lightfm\\_lightfm_fast.py:9: UserWarning: LightFM was compiled without OpenMP support. Only a single thread will be used.\n",
      "  warnings.warn('LightFM was compiled without OpenMP support. '\n"
     ]
    }
   ],
   "source": [
    "import scipy.sparse as sparse\n",
    "\n",
    "from lightfm import LightFM\n",
    "from lightfm.cross_validation import random_train_test_split\n",
    "from lightfm.evaluation import auc_score, precision_at_k, recall_at_k\n",
    "import sklearn\n",
    "from sklearn.model_selection import train_test_split\n",
    "\n",
    "import scipy.sparse as sparse"
   ]
  },
  {
   "cell_type": "code",
   "execution_count": 122,
   "metadata": {},
   "outputs": [
    {
     "data": {
      "text/plain": [
       "(127495, 127494)"
      ]
     },
     "execution_count": 122,
     "metadata": {},
     "output_type": "execute_result"
    }
   ],
   "source": [
    "train_data, test_data = train_test_split(train,random_state=42, shuffle=True)\n",
    "train_data.userid.max(), test_data.userid.max()"
   ]
  },
  {
   "cell_type": "code",
   "execution_count": 123,
   "metadata": {},
   "outputs": [],
   "source": [
    "ratings_coo = sparse.coo_matrix((train_data['rating'].astype(int),\n",
    "                                 (train_data['userid'],\n",
    "                                  train_data['itemid'])))"
   ]
  },
  {
   "cell_type": "code",
   "execution_count": 124,
   "metadata": {},
   "outputs": [],
   "source": [
    "NUM_THREADS = 4 #число потоков\n",
    "NUM_COMPONENTS = 45 #число параметров вектора \n",
    "NUM_EPOCHS = 20 #число эпох обучения\n",
    "\n",
    "model = LightFM(learning_rate=0.1, loss='logistic',\n",
    "                no_components=NUM_COMPONENTS)\n",
    "model = model.fit(ratings_coo, epochs=NUM_EPOCHS, \n",
    "                  num_threads=NUM_THREADS)"
   ]
  },
  {
   "cell_type": "code",
   "execution_count": 125,
   "metadata": {},
   "outputs": [],
   "source": [
    "preds = model.predict(test_data.userid.values,\n",
    "                      test_data.itemid.values)"
   ]
  },
  {
   "cell_type": "code",
   "execution_count": 126,
   "metadata": {},
   "outputs": [
    {
     "data": {
      "text/plain": [
       "0.7215077068296478"
      ]
     },
     "execution_count": 126,
     "metadata": {},
     "output_type": "execute_result"
    }
   ],
   "source": [
    "sklearn.metrics.roc_auc_score(test_data.rating,preds)"
   ]
  },
  {
   "cell_type": "code",
   "execution_count": 127,
   "metadata": {},
   "outputs": [
    {
     "data": {
      "text/plain": [
       "(29.808942794799805, -48.467620849609375)"
      ]
     },
     "execution_count": 127,
     "metadata": {},
     "output_type": "execute_result"
    }
   ],
   "source": [
    "preds.max(), preds.min()"
   ]
  },
  {
   "cell_type": "code",
   "execution_count": 128,
   "metadata": {},
   "outputs": [],
   "source": [
    "normalized_preds = (preds - preds.min())/(preds - preds.min()).max()"
   ]
  },
  {
   "cell_type": "code",
   "execution_count": 129,
   "metadata": {},
   "outputs": [
    {
     "data": {
      "text/plain": [
       "(1.0, 0.0)"
      ]
     },
     "execution_count": 129,
     "metadata": {},
     "output_type": "execute_result"
    }
   ],
   "source": [
    "normalized_preds.max(), normalized_preds.min()"
   ]
  },
  {
   "cell_type": "code",
   "execution_count": 130,
   "metadata": {},
   "outputs": [
    {
     "data": {
      "text/plain": [
       "0.7215077068296478"
      ]
     },
     "execution_count": 130,
     "metadata": {},
     "output_type": "execute_result"
    }
   ],
   "source": [
    "sklearn.metrics.roc_auc_score(test_data.rating,normalized_preds)"
   ]
  },
  {
   "cell_type": "code",
   "execution_count": 137,
   "metadata": {},
   "outputs": [],
   "source": [
    "# обучим модель на полной тренировочной выборке и сделаем submission\n",
    "rating_coo_full = sparse.coo_matrix((train['rating'].astype(int), \n",
    "                                    (train['userid'], train['itemid'])))\n",
    "model_full = LightFM(learning_rate=0.1, loss='logistic',\n",
    "                    no_components=NUM_COMPONENTS)\n",
    "model_full = model_full.fit(rating_coo_full, epochs=NUM_EPOCHS,\n",
    "                       num_threads=NUM_THREADS)\n",
    "preds_kaggle = model_full.predict(test.userid.values,\n",
    "                                 test.itemid.values)"
   ]
  },
  {
   "cell_type": "code",
   "execution_count": 138,
   "metadata": {},
   "outputs": [
    {
     "data": {
      "text/plain": [
       "(-32.22977066040039, 32.50585174560547)"
      ]
     },
     "execution_count": 138,
     "metadata": {},
     "output_type": "execute_result"
    }
   ],
   "source": [
    "preds_kaggle.min(), preds_kaggle.max()"
   ]
  },
  {
   "cell_type": "code",
   "execution_count": 133,
   "metadata": {},
   "outputs": [],
   "source": [
    "#   нормализация предсказаний\n",
    "preds_kaggle = (preds_kaggle - preds_kaggle.min())/(preds_kaggle.max() - preds_kaggle.min())"
   ]
  },
  {
   "cell_type": "code",
   "execution_count": 134,
   "metadata": {},
   "outputs": [],
   "source": [
    "submission['rating'] = preds_kaggle\n",
    "submission.to_csv('data/submission.csv', index=False)"
   ]
  },
  {
   "cell_type": "markdown",
   "metadata": {},
   "source": [
    "## 3 Построим характеристики пользователей (user_features) - не использовано в модели"
   ]
  },
  {
   "cell_type": "markdown",
   "metadata": {},
   "source": [
    "идеи для признаков пользователей:  \n",
    "- средняя длина отзыва,  \n",
    "- разброс по длине отзыва,  \n",
    "- отзыв в выходные или нет,  \n",
    "- среднее время между отзывами,\n",
    "- разброс между отзывами,\n",
    "- средние голоса за отзыв,\n",
    "- разброс между голосами,\n",
    "\n",
    "-Таргеты-  \n",
    "- процент понравившися товаров (сумма единиц, деленная на количество отзывов),\n",
    "- overall  \n",
    "Вопрос: в LightFM можно добавить матрицы user_features и item_features. Колонки features должны быть одинаковые у них?"
   ]
  },
  {
   "cell_type": "code",
   "execution_count": null,
   "metadata": {},
   "outputs": [],
   "source": [
    "train['vote'].fillna(0, inplace=True)"
   ]
  },
  {
   "cell_type": "code",
   "execution_count": null,
   "metadata": {},
   "outputs": [],
   "source": [
    "users = train[['userid', 'overall', 'vote', 'unixReviewTime', 'lenRev']].groupby(by='userid').agg(['mean', 'std', 'count'])\n",
    "users"
   ]
  },
  {
   "cell_type": "code",
   "execution_count": null,
   "metadata": {},
   "outputs": [],
   "source": [
    "users.columns = ['overall_mean', 'overall_std', 'overall_count',\n",
    "                 'vote_mean', 'vote_std', 'vote_count',\n",
    "                 'unixReview_mean', 'unixReview_std', 'unixReview_count',\n",
    "                 'lenRev_mean', 'lenRev_std', 'lenRev_count']"
   ]
  },
  {
   "cell_type": "code",
   "execution_count": null,
   "metadata": {},
   "outputs": [],
   "source": [
    "users.drop(['vote_count', 'unixReview_count', 'lenRev_count'], axis=1, inplace=True)\n",
    "sns.heatmap(users.corr(), cmap='coolwarm')\n",
    "# не видно какой-то связи средней оценки и рассчитанных характеристик"
   ]
  },
  {
   "cell_type": "code",
   "execution_count": null,
   "metadata": {},
   "outputs": [],
   "source": [
    "from sklearn import decomposition\n",
    "\n",
    "pca = decomposition.PCA(n_components=2)\n",
    "users_reduced = pca.fit_transform(users.fillna(0))\n",
    "y = users.overall_mean.apply(round)\n",
    "\n",
    "plt.figure(figsize=(12,10))\n",
    "plt.scatter(users_reduced[:, 0], users_reduced[:, 1], c=y,\n",
    "            edgecolor='none', alpha=0.7, s=40)\n",
    "# тоже не видно ничего похожего на кластеры"
   ]
  },
  {
   "cell_type": "markdown",
   "metadata": {},
   "source": [
    "Вывод: пока для юзеров ничего интересного не нашла"
   ]
  },
  {
   "cell_type": "code",
   "execution_count": null,
   "metadata": {},
   "outputs": [],
   "source": [
    "# сделаю таблицу с юзерами, в качестве фич оставлю средний отзыв, среднюю оценку, среднее время, среднюю длину отзыва.\n",
    "# посмотрим, примет ли модель не разреженную матрицу? - нет, так напрямую не получится\n",
    "users_features = users[['overall_mean', 'overall_count', 'vote_mean', 'unixReview_mean', 'lenRev_mean']]\n",
    "users_features"
   ]
  },
  {
   "cell_type": "markdown",
   "metadata": {},
   "source": [
    "## 4 Построим характеристики продуктов (item_features)  \n",
    "данная операция много времени занимает, при повторной работе можно просто прочитать items из файла"
   ]
  },
  {
   "cell_type": "code",
   "execution_count": null,
   "metadata": {},
   "outputs": [],
   "source": [
    "#  работа с большим файлом json\n",
    "import json"
   ]
  },
  {
   "cell_type": "code",
   "execution_count": null,
   "metadata": {},
   "outputs": [],
   "source": [
    "meta = []\n",
    "with open('data/meta_Grocery_and_Gourmet_Food.json', 'r') as in_file:\n",
    "    for line in in_file:\n",
    "        meta.append(json.loads(line))"
   ]
  },
  {
   "cell_type": "markdown",
   "metadata": {},
   "source": [
    "Что представляет собой этот метафайл:\n",
    "список словарей, описывающих продукты. Длина словарей разная:\n",
    "{4, 5, 6, 7, 8, 9, 10, 11, 12, 13, 14\n",
    "Ключи такие: {'also_buy',\n",
    " 'also_view',\n",
    " 'asin',\n",
    " 'brand',\n",
    " 'category',\n",
    " 'date',\n",
    " 'description',\n",
    " 'details',\n",
    " 'feature',\n",
    " 'fit',\n",
    " 'image',\n",
    " 'main_cat',\n",
    " 'price',\n",
    " 'rank',\n",
    " 'similar_item',\n",
    " 'tech1',\n",
    " 'title'}\n",
    " Сделаем из этого метафайла датафрейм с признаками товаров. Потом в модель добавим разреженную матрицу, с указанием category каждого продукта.\n",
    " для датафрейма:\n",
    " Нужны будут: 'asin', ''brand', 'category', 'main_cat', description, price, \n",
    " В категории последних элементов: 1175 штук\n",
    " предпоследних: 234\n",
    " перых - 1, вторых - 26.\n",
    " main_cat - 27 штук (совпадает со второй позицией в категории)\n",
    " brands - 38915 штук. Слишком длинный, не буду добавлять без обработки"
   ]
  },
  {
   "cell_type": "code",
   "execution_count": null,
   "metadata": {},
   "outputs": [],
   "source": [
    "#посмотрим, что представляет из себя файл json\n",
    "type(meta), len(meta), type(meta[0])"
   ]
  },
  {
   "cell_type": "code",
   "execution_count": null,
   "metadata": {},
   "outputs": [],
   "source": [
    "#примерно понятно, что в метафайле. Создам фичи для продуктов\n",
    "items = train[['itemid', 'unixReviewTime']].groupby('itemid').count() # сосчитаем, сколько всего отзывов на товар было оставлено\n",
    "items['asin'] = train[['itemid', 'asin']].groupby('itemid').first()"
   ]
  },
  {
   "cell_type": "code",
   "execution_count": null,
   "metadata": {},
   "outputs": [],
   "source": [
    "items.columns = ['NoRev', 'asin']\n",
    "items['item_id'] = items.index\n",
    "items.sample(5)"
   ]
  },
  {
   "cell_type": "code",
   "execution_count": null,
   "metadata": {},
   "outputs": [],
   "source": [
    "def set_brand(asin):\n",
    "    for elem in meta:\n",
    "        if elem.get('asin') == asin:\n",
    "            return elem.get('brand')\n",
    "    return('None')\n",
    "\n",
    "items['brand'] = items['asin'].apply(set_brand)"
   ]
  },
  {
   "cell_type": "code",
   "execution_count": null,
   "metadata": {},
   "outputs": [],
   "source": [
    "def set_category(asin):\n",
    "    for elem in meta:\n",
    "        if elem.get('asin') == asin:\n",
    "            return elem.get('category')[-1]\n",
    "    return('None')\n",
    "\n",
    "items['category'] = items['asin'].apply(set_category)"
   ]
  },
  {
   "cell_type": "code",
   "execution_count": null,
   "metadata": {},
   "outputs": [],
   "source": [
    "def set_title(asin):\n",
    "    for elem in meta:\n",
    "        if elem.get('asin') == asin:\n",
    "            return elem.get('title')\n",
    "    return('None')\n",
    "\n",
    "items['title'] = items['asin'].apply(set_title)"
   ]
  },
  {
   "cell_type": "code",
   "execution_count": null,
   "metadata": {},
   "outputs": [],
   "source": [
    "def set_main_cat(asin):\n",
    "    for elem in meta:\n",
    "        if elem.get('asin') == asin:\n",
    "            return elem.get('main_cat')\n",
    "    return('None')\n",
    "\n",
    "items['main_cat'] = items['asin'].apply(set_main_cat)"
   ]
  },
  {
   "cell_type": "code",
   "execution_count": null,
   "metadata": {},
   "outputs": [],
   "source": [
    "#даю каждой категории свой id\n",
    "set_category = set(items.category.unique())\n",
    "print(f'всего категорий: {len(set_category)}')\n",
    "mapper = dict(zip(set_category, range(len(set_category))))\n",
    "items['cat_id'] = items['category'].apply(lambda x: mapper[x])"
   ]
  },
  {
   "cell_type": "code",
   "execution_count": null,
   "metadata": {},
   "outputs": [],
   "source": [
    "# запишем получившийся датафрейм в файл\n",
    "items.to_csv('data/items.csv')"
   ]
  },
  {
   "cell_type": "markdown",
   "metadata": {},
   "source": [
    "### для повторных экспериментов прочитаем *items* из файла"
   ]
  },
  {
   "cell_type": "code",
   "execution_count": 139,
   "metadata": {},
   "outputs": [],
   "source": [
    "items = pd.read_csv('data/items.csv')"
   ]
  },
  {
   "cell_type": "code",
   "execution_count": 140,
   "metadata": {},
   "outputs": [
    {
     "name": "stdout",
     "output_type": "stream",
     "text": [
      "<class 'pandas.core.frame.DataFrame'>\n",
      "RangeIndex: 41302 entries, 0 to 41301\n",
      "Data columns (total 9 columns):\n",
      " #   Column    Non-Null Count  Dtype \n",
      "---  ------    --------------  ----- \n",
      " 0   itemid    41302 non-null  int64 \n",
      " 1   NoRev     41302 non-null  int64 \n",
      " 2   asin      41302 non-null  object\n",
      " 3   brand     40877 non-null  object\n",
      " 4   category  41302 non-null  object\n",
      " 5   title     41302 non-null  object\n",
      " 6   main_cat  41219 non-null  object\n",
      " 7   cat_id    41302 non-null  int64 \n",
      " 8   item_id   41302 non-null  int64 \n",
      "dtypes: int64(4), object(5)\n",
      "memory usage: 2.8+ MB\n"
     ]
    }
   ],
   "source": [
    "items.info()"
   ]
  },
  {
   "cell_type": "code",
   "execution_count": 141,
   "metadata": {},
   "outputs": [],
   "source": [
    "feature_ratings = sparse.coo_matrix(([1]*len(items), \n",
    "                                    (items.item_id, items.cat_id)))"
   ]
  },
  {
   "cell_type": "code",
   "execution_count": 142,
   "metadata": {},
   "outputs": [
    {
     "data": {
      "text/plain": [
       "<41320x967 sparse matrix of type '<class 'numpy.int32'>'\n",
       "\twith 41302 stored elements in COOrdinate format>"
      ]
     },
     "execution_count": 142,
     "metadata": {},
     "output_type": "execute_result"
    }
   ],
   "source": [
    "feature_ratings"
   ]
  },
  {
   "cell_type": "markdown",
   "metadata": {},
   "source": [
    "## 4.1 добавляю признаки продуктов к базовой модели"
   ]
  },
  {
   "cell_type": "code",
   "execution_count": 143,
   "metadata": {},
   "outputs": [],
   "source": [
    "#число потоков нашего процессора\n",
    "NUM_THREADS = 2 \n",
    "\n",
    "#число параметров вектора \n",
    "NUM_COMPONENTS = 30 \n",
    "\n",
    "#число эпох обучения\n",
    "NUM_EPOCHS = 10"
   ]
  },
  {
   "cell_type": "code",
   "execution_count": 144,
   "metadata": {},
   "outputs": [],
   "source": [
    "# model_f - это модеь с добавленными фичами по продуктам\n",
    "model_f = LightFM(learning_rate = 0.1, loss='logistic',\n",
    "               no_components=NUM_COMPONENTS)\n",
    "model_f = model_f.fit(ratings_coo, epochs=NUM_EPOCHS,\n",
    "                      num_threads=NUM_THREADS,\n",
    "                      item_features=feature_ratings)\n"
   ]
  },
  {
   "cell_type": "code",
   "execution_count": 145,
   "metadata": {},
   "outputs": [],
   "source": [
    "preds = model_f.predict(test_data.userid.values,\n",
    "                        test_data.itemid.values,\n",
    "                       item_features=feature_ratings)"
   ]
  },
  {
   "cell_type": "code",
   "execution_count": 146,
   "metadata": {},
   "outputs": [
    {
     "data": {
      "text/plain": [
       "0.6780246512381293"
      ]
     },
     "execution_count": 146,
     "metadata": {},
     "output_type": "execute_result"
    }
   ],
   "source": [
    "sklearn.metrics.roc_auc_score(test_data.rating,preds)"
   ]
  },
  {
   "cell_type": "code",
   "execution_count": 148,
   "metadata": {},
   "outputs": [],
   "source": [
    "# обучим модель на полной тренировочной выборке и сделаем submission\n",
    "model_f_full = LightFM(learning_rate = 0.1, loss='logistic',\n",
    "               no_components=NUM_COMPONENTS)\n",
    "model_f_full = model_f_full.fit(rating_coo_full, epochs=NUM_EPOCHS,\n",
    "                      num_threads=NUM_THREADS,\n",
    "                      item_features=feature_ratings)\n",
    "preds_kaggle = model_full.predict(test.userid.values,\n",
    "                                 test.itemid.values)"
   ]
  },
  {
   "cell_type": "code",
   "execution_count": 149,
   "metadata": {},
   "outputs": [],
   "source": [
    "preds_kaggle = (preds_kaggle - preds_kaggle.min())/(preds_kaggle.max() - preds_kaggle.min())"
   ]
  },
  {
   "cell_type": "code",
   "execution_count": 150,
   "metadata": {},
   "outputs": [],
   "source": [
    "submission['rating'] = preds_kaggle\n",
    "submission.to_csv('data/submission_f.csv', index=False)"
   ]
  },
  {
   "cell_type": "markdown",
   "metadata": {},
   "source": [
    "## 5 Базовая модель LightFM и попробовать настроить параметры \n",
    "TODO : попробовать еще понастраивать, пока эта часть не доделана толком"
   ]
  },
  {
   "cell_type": "code",
   "execution_count": null,
   "metadata": {},
   "outputs": [],
   "source": [
    "# пока не получилось ничего полезного сделать с пользователями.\n",
    "# попробуем настроить параметры модели\n",
    "#    TODO: кроссвалидация? графически нарисовать зависимость от параметров? \n"
   ]
  },
  {
   "cell_type": "code",
   "execution_count": null,
   "metadata": {},
   "outputs": [],
   "source": [
    "from sklearn.model_selection import GridSearchCV\n",
    "from sklearn.metrics import roc_auc_score, make_scorer"
   ]
  },
  {
   "cell_type": "code",
   "execution_count": null,
   "metadata": {},
   "outputs": [],
   "source": [
    "RA_scorer = make_scorer(roc_auc_score)\n",
    "#params = {'no_components': np.arange(10, 55, 5), 'epochs': np.arange(10, 110, 10)}\n",
    "params = {'no_components': np.arange(10, 55, 5)}\n",
    "model_grid = GridSearchCV(model, params, cv=5, scoring=RA_scorer, n_jobs=-1)"
   ]
  },
  {
   "cell_type": "code",
   "execution_count": null,
   "metadata": {},
   "outputs": [],
   "source": [
    "%%time\n",
    "model_grid.fit(ratings_coo)\n",
    "# не получается - я же никак не передаю y_true! \n",
    "# ошибка: TypeError: _score() missing 1 required positional argument: 'y_true'"
   ]
  },
  {
   "cell_type": "code",
   "execution_count": null,
   "metadata": {},
   "outputs": [],
   "source": [
    "best_params = dict()\n",
    "best_params['NUM_COMPONENTS'] = 0\n",
    "best_params['NUM_EPOCHS'] = 0\n",
    "best_score = 0\n",
    "for NUM_COMPONENTS in  np.arange(10, 55, 5):\n",
    "    for NUM_EPOCHS in np.arange(10, 110, 10):\n",
    "        print(f'no_components: {NUM_COMPONENTS}, epochs: {NUM_EPOCHS}')\n",
    "        model = LightFM(learning_rate=0.1, loss='logistic',\n",
    "                        no_components=NUM_COMPONENTS)\n",
    "        model = model.fit(ratings_coo, epochs=NUM_EPOCHS, \n",
    "                          num_threads=NUM_THREADS)\n",
    "        preds = model.predict(test_data.userid.values,\n",
    "                      test_data.itemid.values)\n",
    "        score = sklearn.metrics.roc_auc_score(test_data.rating,preds)\n",
    "        if best_score < score:\n",
    "            best_score = score\n",
    "            best_params['NUM_COMPONENTS'] = NUM_COMPONENTS\n",
    "            best_params['NUM_EPOCHS'] = NUM_EPOCHS\n",
    "        print(f'ROC AUC: {sklearn.metrics.roc_auc_score(test_data.rating,preds)}')\n",
    "print(f'best params: {best_params}, ROC_AUC = {best_score}')        \n",
    "# no_components: 45, epochs: 20\n",
    "#ROC AUC: 0.7485265522489375\n",
    "\n",
    "#no_components: 50, epochs: 20\n",
    "#ROC AUC: 0.7479426319127492\n",
    "\n",
    "#best params: {'NUM_COMPONENTS': 45, 'NUM_EPOCHS': 20}, ROC_AUC = 0.748213542810402"
   ]
  },
  {
   "cell_type": "code",
   "execution_count": null,
   "metadata": {},
   "outputs": [],
   "source": [
    "# выберем лучшую модель из цикла и обучим на всей выборке (без дополнительных фич)\n",
    "#best params: {'NUM_COMPONENTS': 45, 'NUM_EPOCHS': 20}, ROC_AUC = 0.748213542810402\n",
    "model = LightFM(learning_rate=0.1, loss='logistic',\n",
    "                no_components=45)\n",
    "model = model.fit(rating_coo_full, epochs=20, \n",
    "                num_threads=NUM_THREADS)\n",
    "preds_kaggle = model.predict(test.userid.values,\n",
    "                                 test.itemid.values)"
   ]
  },
  {
   "cell_type": "code",
   "execution_count": null,
   "metadata": {},
   "outputs": [],
   "source": [
    "preds_kaggle.min(), preds_kaggle.max()"
   ]
  },
  {
   "cell_type": "code",
   "execution_count": null,
   "metadata": {},
   "outputs": [],
   "source": [
    "preds_kaggle = (preds_kaggle - preds_kaggle.min())/(preds_kaggle.max() - preds_kaggle.min())"
   ]
  },
  {
   "cell_type": "code",
   "execution_count": null,
   "metadata": {},
   "outputs": [],
   "source": [
    "submission['rating'] = preds_kaggle\n",
    "submission.to_csv('data/submission_01.csv', index=False)"
   ]
  },
  {
   "cell_type": "code",
   "execution_count": null,
   "metadata": {},
   "outputs": [],
   "source": []
  },
  {
   "cell_type": "markdown",
   "metadata": {},
   "source": [
    "## 6 Сделать рекомендацию по продукту"
   ]
  },
  {
   "cell_type": "code",
   "execution_count": 151,
   "metadata": {},
   "outputs": [],
   "source": [
    "# воспользуемся моделью model_full, без признаков, и обученную на всех тренировочных данных"
   ]
  },
  {
   "cell_type": "code",
   "execution_count": 152,
   "metadata": {},
   "outputs": [],
   "source": [
    "import pickle\n"
   ]
  },
  {
   "cell_type": "code",
   "execution_count": 153,
   "metadata": {},
   "outputs": [],
   "source": [
    "# для начала запишем ее в pickl file, чтобы при реализации сервиса просто прочитать модель из файла\n",
    "with open('data/model.pkl', 'wb') as f_out:\n",
    "    pickle.dump(model_full, f_out)"
   ]
  },
  {
   "cell_type": "code",
   "execution_count": 155,
   "metadata": {},
   "outputs": [],
   "source": [
    "with open('data/model.pkl', 'rb') as f_in:\n",
    "    model_full = pickle.load(f_in)"
   ]
  },
  {
   "cell_type": "markdown",
   "metadata": {},
   "source": [
    "#Тестируем нашу модель - не получается, пропускаю для быстрого создания прототипа\n",
    "prec_score = precision_at_k(\n",
    "                     model,\n",
    "                     test_data,\n",
    "                     num_threads=NUM_THREADS,\n",
    "                     k=10).mean()\n",
    " \n",
    "recall_at_k = recall_at_k(model,\n",
    "                     test_data,\n",
    "                     num_threads=NUM_THREADS,\n",
    "                     k=10).mean()\n",
    "\n",
    "print(recall_at_k,prec_score)"
   ]
  },
  {
   "cell_type": "code",
   "execution_count": 156,
   "metadata": {},
   "outputs": [],
   "source": [
    "item_biases, item_embeddings = model_full.get_item_representations()"
   ]
  },
  {
   "cell_type": "code",
   "execution_count": 157,
   "metadata": {},
   "outputs": [
    {
     "data": {
      "text/plain": [
       "array([1.4849496 , 0.53994983, 1.2762364 , ..., 0.36576027, 0.68609065,\n",
       "       0.5804278 ], dtype=float32)"
      ]
     },
     "execution_count": 157,
     "metadata": {},
     "output_type": "execute_result"
    }
   ],
   "source": [
    "item_biases"
   ]
  },
  {
   "cell_type": "code",
   "execution_count": 158,
   "metadata": {},
   "outputs": [
    {
     "data": {
      "text/plain": [
       "array([[-3.9957009e-05,  5.4519799e-02,  1.4675276e-04, ...,\n",
       "        -6.7485228e-02,  3.5210692e-03, -2.8445236e-02],\n",
       "       [ 4.3681571e-01, -3.2553774e-01,  4.0004662e-01, ...,\n",
       "         5.6896669e-01,  8.2646221e-02, -6.6267692e-02],\n",
       "       [-1.9194117e-02, -6.1592609e-02,  4.9716916e-02, ...,\n",
       "        -4.1774376e-03,  4.0784363e-02, -1.0279000e-02],\n",
       "       ...,\n",
       "       [ 4.4545182e-03, -2.9487902e-02, -4.1992035e-02, ...,\n",
       "        -9.9090271e-02, -1.3403259e-01,  1.0562705e-01],\n",
       "       [ 7.1618436e-03,  1.9951208e-02,  2.7616356e-02, ...,\n",
       "        -2.2924616e-04, -2.7610349e-02,  4.4602756e-03],\n",
       "       [ 1.1428286e-02, -3.2067534e-03, -1.6693742e-03, ...,\n",
       "        -7.6044304e-03,  9.0401191e-03, -8.3871558e-03]], dtype=float32)"
      ]
     },
     "execution_count": 158,
     "metadata": {},
     "output_type": "execute_result"
    }
   ],
   "source": [
    "item_embeddings"
   ]
  },
  {
   "cell_type": "code",
   "execution_count": 159,
   "metadata": {},
   "outputs": [],
   "source": [
    "import nmslib\n",
    " \n",
    "#Создаём наш граф для поиска\n",
    "nms_idx = nmslib.init(method='hnsw', space='cosinesimil')\n",
    " \n",
    "#Начинаем добавлять наши книги в граф\n",
    "nms_idx.addDataPointBatch(item_embeddings)\n",
    "nms_idx.createIndex(print_progress=True)"
   ]
  },
  {
   "cell_type": "code",
   "execution_count": 160,
   "metadata": {},
   "outputs": [],
   "source": [
    "#Вспомогательная функция для поиска по графу\n",
    "def nearest_item_nms(item_id, index, n=5):\n",
    "    nn = index.knnQuery(item_embeddings[item_id], k=n)\n",
    "    return nn"
   ]
  },
  {
   "cell_type": "markdown",
   "metadata": {},
   "source": [
    "По уму нужно, конечно, давать рекомендации по пользователям.  \n",
    "Но в примере были рекомендации к книгам, \n",
    "попробую повторить шаблон из примера"
   ]
  },
  {
   "cell_type": "code",
   "execution_count": 161,
   "metadata": {},
   "outputs": [
    {
     "data": {
      "text/plain": [
       "14942"
      ]
     },
     "execution_count": 161,
     "metadata": {},
     "output_type": "execute_result"
    }
   ],
   "source": [
    "# найдем случайный id товара\n",
    "itemid_for_reccomend = items.sample(1)['itemid'].values[0]\n",
    "itemid_for_reccomend"
   ]
  },
  {
   "cell_type": "code",
   "execution_count": 162,
   "metadata": {},
   "outputs": [
    {
     "name": "stdout",
     "output_type": "stream",
     "text": [
      "Рекомендации для товара : \n",
      " Bob's Red Mill Black Currants -- 16 oz\n",
      "      brand:  Bob's Red Mill\n",
      "   category:  Dried Fruit & Raisins\n",
      "   main_cat:  Health & Personal Care\n"
     ]
    },
    {
     "data": {
      "text/html": [
       "<div>\n",
       "<style scoped>\n",
       "    .dataframe tbody tr th:only-of-type {\n",
       "        vertical-align: middle;\n",
       "    }\n",
       "\n",
       "    .dataframe tbody tr th {\n",
       "        vertical-align: top;\n",
       "    }\n",
       "\n",
       "    .dataframe thead th {\n",
       "        text-align: right;\n",
       "    }\n",
       "</style>\n",
       "<table border=\"1\" class=\"dataframe\">\n",
       "  <thead>\n",
       "    <tr style=\"text-align: right;\">\n",
       "      <th></th>\n",
       "      <th>itemid</th>\n",
       "      <th>NoRev</th>\n",
       "      <th>asin</th>\n",
       "      <th>brand</th>\n",
       "      <th>category</th>\n",
       "      <th>title</th>\n",
       "      <th>main_cat</th>\n",
       "      <th>cat_id</th>\n",
       "      <th>item_id</th>\n",
       "    </tr>\n",
       "  </thead>\n",
       "  <tbody>\n",
       "    <tr>\n",
       "      <th>7381</th>\n",
       "      <td>7387</td>\n",
       "      <td>53</td>\n",
       "      <td>B001E5DX4A</td>\n",
       "      <td>Barbara's Bakery</td>\n",
       "      <td>Muesli</td>\n",
       "      <td>Alpen Muesli Cereal, No Sugar Added, 14 Ounce ...</td>\n",
       "      <td>Grocery</td>\n",
       "      <td>139</td>\n",
       "      <td>7387</td>\n",
       "    </tr>\n",
       "    <tr>\n",
       "      <th>8327</th>\n",
       "      <td>8333</td>\n",
       "      <td>26</td>\n",
       "      <td>B001F3FDOY</td>\n",
       "      <td>Teisseire</td>\n",
       "      <td>Flavor Syrups</td>\n",
       "      <td>Teisseire Peach Syrup 20.3 fl oz for flavoring...</td>\n",
       "      <td>Grocery</td>\n",
       "      <td>489</td>\n",
       "      <td>8333</td>\n",
       "    </tr>\n",
       "    <tr>\n",
       "      <th>11694</th>\n",
       "      <td>11700</td>\n",
       "      <td>20</td>\n",
       "      <td>B003JCCRI4</td>\n",
       "      <td>Paesano</td>\n",
       "      <td>Olive</td>\n",
       "      <td>PAESANO Organice Unfiltered Extra Virgin Olive...</td>\n",
       "      <td>Grocery</td>\n",
       "      <td>67</td>\n",
       "      <td>11700</td>\n",
       "    </tr>\n",
       "    <tr>\n",
       "      <th>14936</th>\n",
       "      <td>14942</td>\n",
       "      <td>11</td>\n",
       "      <td>B00514CAQW</td>\n",
       "      <td>Bob's Red Mill</td>\n",
       "      <td>Dried Fruit &amp; Raisins</td>\n",
       "      <td>Bob's Red Mill Black Currants -- 16 oz</td>\n",
       "      <td>Health &amp; Personal Care</td>\n",
       "      <td>858</td>\n",
       "      <td>14942</td>\n",
       "    </tr>\n",
       "    <tr>\n",
       "      <th>20739</th>\n",
       "      <td>20745</td>\n",
       "      <td>50</td>\n",
       "      <td>B00AJRKHZC</td>\n",
       "      <td>Simply Organic</td>\n",
       "      <td>Fennel Seed</td>\n",
       "      <td>Simply Organic Fennel Seed, 1.9 Ounce</td>\n",
       "      <td>Grocery</td>\n",
       "      <td>435</td>\n",
       "      <td>20745</td>\n",
       "    </tr>\n",
       "  </tbody>\n",
       "</table>\n",
       "</div>"
      ],
      "text/plain": [
       "       itemid  NoRev        asin             brand               category  \\\n",
       "7381     7387     53  B001E5DX4A  Barbara's Bakery                 Muesli   \n",
       "8327     8333     26  B001F3FDOY         Teisseire          Flavor Syrups   \n",
       "11694   11700     20  B003JCCRI4           Paesano                  Olive   \n",
       "14936   14942     11  B00514CAQW    Bob's Red Mill  Dried Fruit & Raisins   \n",
       "20739   20745     50  B00AJRKHZC    Simply Organic            Fennel Seed   \n",
       "\n",
       "                                                   title  \\\n",
       "7381   Alpen Muesli Cereal, No Sugar Added, 14 Ounce ...   \n",
       "8327   Teisseire Peach Syrup 20.3 fl oz for flavoring...   \n",
       "11694  PAESANO Organice Unfiltered Extra Virgin Olive...   \n",
       "14936             Bob's Red Mill Black Currants -- 16 oz   \n",
       "20739              Simply Organic Fennel Seed, 1.9 Ounce   \n",
       "\n",
       "                     main_cat  cat_id  item_id  \n",
       "7381                  Grocery     139     7387  \n",
       "8327                  Grocery     489     8333  \n",
       "11694                 Grocery      67    11700  \n",
       "14936  Health & Personal Care     858    14942  \n",
       "20739                 Grocery     435    20745  "
      ]
     },
     "execution_count": 162,
     "metadata": {},
     "output_type": "execute_result"
    }
   ],
   "source": [
    "nbm = nearest_item_nms(itemid_for_reccomend,nms_idx)[0]\n",
    "print('Рекомендации для товара : \\n', items[items.itemid == itemid_for_reccomend]['title'].values[0])\n",
    "print('      brand: ', items[items.itemid == itemid_for_reccomend]['brand'].values[0])\n",
    "print('   category: ', items[items.itemid == itemid_for_reccomend]['category'].values[0])\n",
    "print('   main_cat: ', items[items.itemid == itemid_for_reccomend]['main_cat'].values[0])\n",
    "items[items.itemid.isin(nbm)]"
   ]
  },
  {
   "cell_type": "code",
   "execution_count": null,
   "metadata": {},
   "outputs": [],
   "source": []
  },
  {
   "cell_type": "markdown",
   "metadata": {},
   "source": [
    "## Выводы на 14.07.2020:\n",
    "Что сделано:\n",
    "1. построена базовая модель LightFM без особенной предобработки данных\n",
    "2. добавлены признаки товаров \"в лоб\" = прост по категориям, сделана модель и предсказания на каггл\n",
    "3. Получены эмбеддинги для товаров, и возможность найти рекомендации по товару (ближайших соседей) - для модели без фич\n",
    "\n",
    "Выводы:\n",
    "1. добавление фич ухудшает скор\n",
    "2. скор и так не очень хороший на базовых моделях\n",
    "3. рекомендации к товару адекватные.\n",
    "\n",
    "Проблемы и идеи (что не работает):\n",
    "(переписать из тетрадки)\n",
    "\n",
    "Ближайшие планы:\n",
    "1. Записать все в скрипт.py\n",
    "2. Разбираться с хироку и заливать туда модель\n",
    "\n"
   ]
  },
  {
   "cell_type": "code",
   "execution_count": null,
   "metadata": {},
   "outputs": [],
   "source": []
  },
  {
   "cell_type": "code",
   "execution_count": null,
   "metadata": {},
   "outputs": [],
   "source": []
  }
 ],
 "metadata": {
  "kernelspec": {
   "display_name": "Python 3",
   "language": "python",
   "name": "python3"
  },
  "language_info": {
   "codemirror_mode": {
    "name": "ipython",
    "version": 3
   },
   "file_extension": ".py",
   "mimetype": "text/x-python",
   "name": "python",
   "nbconvert_exporter": "python",
   "pygments_lexer": "ipython3",
   "version": "3.7.7"
  }
 },
 "nbformat": 4,
 "nbformat_minor": 4
}
